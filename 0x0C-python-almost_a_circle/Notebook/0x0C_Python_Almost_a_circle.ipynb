{
  "nbformat": 4,
  "nbformat_minor": 0,
  "metadata": {
    "colab": {
      "provenance": [],
      "collapsed_sections": [
        "MC8WZCFYxA6Q",
        "ifFxMeOvx4u5"
      ],
      "authorship_tag": "ABX9TyPI5ipRvxx6OGAgCw7FnyNB",
      "include_colab_link": true
    },
    "kernelspec": {
      "name": "python3",
      "display_name": "Python 3"
    },
    "language_info": {
      "name": "python"
    }
  },
  "cells": [
    {
      "cell_type": "markdown",
      "metadata": {
        "id": "view-in-github",
        "colab_type": "text"
      },
      "source": [
        "<a href=\"https://colab.research.google.com/github/MegaChie/alx-higher_level_programming/blob/main/0x0C-python-almost_a_circle/Notebook/0x0C_Python_Almost_a_circle.ipynb\" target=\"_parent\"><img src=\"https://colab.research.google.com/assets/colab-badge.svg\" alt=\"Open In Colab\"/></a>"
      ]
    },
    {
      "cell_type": "markdown",
      "source": [
        "# Classes"
      ],
      "metadata": {
        "id": "MC8WZCFYxA6Q"
      }
    },
    {
      "cell_type": "code",
      "execution_count": null,
      "metadata": {
        "id": "1VkTQwAh9aVP"
      },
      "outputs": [],
      "source": [
        "\"\"\" 0x0C. Python - Almost a circle \"\"\"\n",
        "\n",
        "\n",
        "import json\n",
        "import csv\n",
        "\n",
        "\n",
        "class Base:\n",
        "    \"\"\" Base class \"\"\"\n",
        "    __nb_objects = 0\n",
        "\n",
        "    def __init__(self, id=None):\n",
        "        if id is not None:\n",
        "            self.id = id\n",
        "        else:\n",
        "            Base.__nb_objects += 1\n",
        "            self.id = Base.__nb_objects\n",
        "\n",
        "    @staticmethod\n",
        "    def to_json_string(list_dictionaries):\n",
        "        \"\"\" Dictionary to JSON string \"\"\"\n",
        "        if list_dictionaries is None or len(list_dictionaries) == 0:\n",
        "            return \"[]\"\n",
        "        else:\n",
        "            return json.dumps(list_dictionaries)\n",
        "\n",
        "    @classmethod\n",
        "    def save_to_file(cls, list_objs):\n",
        "        \"\"\" JSON string to file \"\"\"\n",
        "        with open(cls.__name__ + \".json\", 'w', encoding=\"utf-8\") as fileWrite:\n",
        "            if list_objs is None:\n",
        "                fileWrite.write(\"[]\")\n",
        "            else:\n",
        "                fileWrite.write(cls.to_json_string([item.to_dictionary()\n",
        "                                                    for item in list_objs]))\n",
        "\n",
        "    @staticmethod\n",
        "    def from_json_string(json_string):\n",
        "        \"\"\" JSON string to dictionary \"\"\"\n",
        "        if json_string is None or len(json_string) == 0:\n",
        "            return []\n",
        "        else:\n",
        "            return json.loads(json_string)\n",
        "\n",
        "    @classmethod\n",
        "    def create(cls, **dictionary):\n",
        "        \"\"\" Dictionary to Instance \"\"\"\n",
        "        if cls.__name__ == \"Rectangle\":\n",
        "            temp = cls(1, 1)\n",
        "        if cls.__name__ == \"Square\":\n",
        "            temp = cls(1)\n",
        "        temp.update(**dictionary)\n",
        "        return temp\n",
        "\n",
        "    @classmethod\n",
        "    def load_from_file(cls):\n",
        "        \"\"\" File to instances \"\"\"\n",
        "        try:\n",
        "            with open(cls.__name__ + \".json\", 'r', encoding=\"utf-8\") as jfile:\n",
        "                list_dicts = Base.from_json_string(jfile.read())\n",
        "                return [cls.create(**d) for d in list_dicts]\n",
        "        except IOError:\n",
        "            return []\n",
        "\n",
        "    @classmethod\n",
        "    def load_from_file_csv(cls):\n",
        "        \"\"\" JSON ok, but CSV? \"\"\"\n",
        "        try:\n",
        "            with open(cls.__name__ + \".csv\", \"r\", newline=\"\") as csvFile:\n",
        "                if cls.__name__ == \"Rectangle\":\n",
        "                    fieldnames = [\"id\", \"width\", \"height\", \"x\", \"y\"]\n",
        "                else:\n",
        "                    fieldnames = [\"id\", \"size\", \"x\", \"y\"]\n",
        "                list_dicts = csv.DictReader(csvFile, fieldnames=fieldnames)\n",
        "                list_dicts = [dict([k, int(v)] for k, v in d.items())\n",
        "                              for d in list_dicts]\n",
        "                return [cls.create(**d) for d in list_dicts]\n",
        "        except IOError:\n",
        "            return []\n",
        "\n",
        "    @classmethod\n",
        "    def save_to_file_csv(cls, list_objs):\n",
        "        \"\"\" JSON ok, but CSV? \"\"\"\n",
        "        with open(cls.__name__ + \".csv\", \"w\", newline=\"\") as csvFile:\n",
        "            if list_objs is None or list_objs == []:\n",
        "                csvFile.write(\"[]\")\n",
        "            else:\n",
        "                if cls.__name__ == \"Rectangle\":\n",
        "                    fieldnames = [\"id\", \"width\", \"height\", \"x\", \"y\"]\n",
        "                else:\n",
        "                    fieldnames = [\"id\", \"size\", \"x\", \"y\"]\n",
        "                writer = csv.DictWriter(csvFile, fieldnames=fieldnames)\n",
        "                for obj in list_objs:\n",
        "                    writer.writerow(obj.to_dictionary())"
      ]
    },
    {
      "cell_type": "code",
      "source": [
        "\"\"\" 0x0C. Python - Almost a circle \"\"\"\n",
        "\n",
        "\n",
        "class Rectangle(Base):\n",
        "    \"\"\" First Rectangle \"\"\"\n",
        "    def __init__(self, width, height, x=0, y=0, id=None):\n",
        "        super().__init__(id)\n",
        "        self.width = width\n",
        "        self.height = height\n",
        "        self.x = x\n",
        "        self.y = y\n",
        "\n",
        "    @property\n",
        "    def width(self):\n",
        "        return self.__width\n",
        "\n",
        "    @width.setter\n",
        "    def width(self, value):\n",
        "        if type(value) is not int:\n",
        "            raise TypeError(\"width must be an integer\")\n",
        "        if value <= 0:\n",
        "            raise ValueError(\"width must be > 0\")\n",
        "        self.__width = value\n",
        "\n",
        "    @property\n",
        "    def height(self):\n",
        "        return self.__height\n",
        "\n",
        "    @height.setter\n",
        "    def height(self, value):\n",
        "        if type(value) is not int:\n",
        "            raise TypeError(\"height must be an integer\")\n",
        "        if value <= 0:\n",
        "            raise ValueError(\"height must be > 0\")\n",
        "        self.__height = value\n",
        "\n",
        "    @property\n",
        "    def x(self):\n",
        "        return self.__x\n",
        "\n",
        "    @x.setter\n",
        "    def x(self, value):\n",
        "        if type(value) is not int:\n",
        "            raise TypeError(\"x must be an integer\")\n",
        "        if value < 0:\n",
        "            raise ValueError(\"x must be >= 0\")\n",
        "        self.__x = value\n",
        "\n",
        "    @property\n",
        "    def y(self):\n",
        "        return self.__y\n",
        "\n",
        "    @y.setter\n",
        "    def y(self, value):\n",
        "        if type(value) is not int:\n",
        "            raise TypeError(\"y must be an integer\")\n",
        "        if value < 0:\n",
        "            raise ValueError(\"y must be >= 0\")\n",
        "        self.__y = value\n",
        "\n",
        "    def area(self):\n",
        "        \"\"\" Area first \"\"\"\n",
        "        return self.width * self.__height\n",
        "\n",
        "    def display(self):\n",
        "        \"\"\" Display #0 \"\"\"\n",
        "        if self.__y != 0:\n",
        "            for lines in range(self.__y):\n",
        "                print()\n",
        "        for lines in range(self.__height):\n",
        "            print((self.__x * \" \") + ('#' * self.__width))\n",
        "\n",
        "    def __str__(self):\n",
        "        \"\"\" __str__ \"\"\"\n",
        "        return \"[{}] ({}) {}/{} - {}/{}\".format(self.__class__.__name__,\n",
        "                                                self.id, self.__x, self.__y,\n",
        "                                                self.__width, self.__height)\n",
        "\n",
        "    def update(self, *args, **kwargs):\n",
        "        \"\"\" Update #0 \"\"\"\n",
        "        if len(kwargs) != 0:\n",
        "            for keys, values in kwargs.items():\n",
        "                setattr(self, keys, values)\n",
        "        elif len(args) != 0:\n",
        "            try:\n",
        "                self.id = args[0]\n",
        "                self.__width = args[1]\n",
        "                self.__height = args[2]\n",
        "                self.__x = args[3]\n",
        "                self.__y = args[4]\n",
        "            except IndexError:\n",
        "                pass\n",
        "        else:\n",
        "            print()\n",
        "\n",
        "    def to_dictionary(self):\n",
        "        \"\"\" Rectangle instance to dictionary represultentation \"\"\"\n",
        "        return {'id': self.id, 'width': self.__width, 'height': self.__height,\n",
        "                'x': self.__x, 'y': self.__y}"
      ],
      "metadata": {
        "id": "_dCIbI0EAWDw"
      },
      "execution_count": null,
      "outputs": []
    },
    {
      "cell_type": "code",
      "source": [
        "\"\"\" 0x0C. Python - Almost a circle \"\"\"\n",
        "\n",
        "\n",
        "class Square(Rectangle):\n",
        "    \"\"\" And now, the Square! \"\"\"\n",
        "    def __init__(self, size, x=0, y=0, id=None):\n",
        "        super().__init__(width=size, height=size, x=x, y=y, id=id)\n",
        "\n",
        "    @property\n",
        "    def size(self):\n",
        "        return self.width\n",
        "\n",
        "    @size.setter\n",
        "    def size(self, value):\n",
        "        self.width = value\n",
        "        self.height = value\n",
        "\n",
        "    def __str__(self):\n",
        "        \"\"\" Square size \"\"\"\n",
        "        return \"[{}] ({}) {}/{} - {}\".format(self.__class__.__name__,\n",
        "                                             self.id, self.x, self.y,\n",
        "                                             self.width)\n",
        "\n",
        "    def update(self, *args, **kwargs):\n",
        "        \"\"\" Square update \"\"\"\n",
        "        if len(kwargs) != 0:\n",
        "            for keys, values in kwargs.items():\n",
        "                setattr(self, keys, values)\n",
        "        elif len(args) != 0:\n",
        "            try:\n",
        "                self.id = args[0]\n",
        "                self.size = args[1]\n",
        "                self.x = args[2]\n",
        "                self.y = args[3]\n",
        "            except IndexError:\n",
        "                pass\n",
        "        else:\n",
        "            print()\n",
        "\n",
        "    def to_dictionary(self):\n",
        "        \"\"\" Rectangle instance to dictionary represultentation \"\"\"\n",
        "        return {'id': self.id, 'size': self.width, 'x': self.x, 'y': self.y}"
      ],
      "metadata": {
        "id": "Lad_Ul1_Eubx"
      },
      "execution_count": null,
      "outputs": []
    },
    {
      "cell_type": "markdown",
      "source": [
        "# Test Examples"
      ],
      "metadata": {
        "id": "ifFxMeOvx4u5"
      }
    },
    {
      "cell_type": "code",
      "source": [
        "    b1 = Base()\n",
        "    print(b1.id)\n",
        "\n",
        "    b2 = Base()\n",
        "    print(b2.id)\n",
        "\n",
        "    b3 = Base()\n",
        "    print(b3.id)\n",
        "\n",
        "    b4 = Base(12)\n",
        "    print(b4.id)\n",
        "\n",
        "    b5 = Base()\n",
        "    print(b5.id)"
      ],
      "metadata": {
        "colab": {
          "base_uri": "https://localhost:8080/"
        },
        "id": "QK13XVbW-4BP",
        "outputId": "09ff6456-1ecb-4300-e62a-1e687290fac5"
      },
      "execution_count": null,
      "outputs": [
        {
          "output_type": "stream",
          "name": "stdout",
          "text": [
            "1\n",
            "2\n",
            "3\n",
            "12\n",
            "4\n"
          ]
        }
      ]
    },
    {
      "cell_type": "code",
      "source": [
        "if __name__ == \"__main__\":\n",
        "\n",
        "    r1 = Rectangle(10, 2)\n",
        "    print(r1.id)\n",
        "\n",
        "    r2 = Rectangle(2, 10)\n",
        "    print(r2.id)\n",
        "\n",
        "    r3 = Rectangle(10, 2, 0, 0, 12)\n",
        "    print(r3.id)"
      ],
      "metadata": {
        "colab": {
          "base_uri": "https://localhost:8080/"
        },
        "id": "4jyoBXLIB3oZ",
        "outputId": "1c95c05e-3c79-41fc-c254-3be4f2a5ff32"
      },
      "execution_count": null,
      "outputs": [
        {
          "output_type": "stream",
          "name": "stdout",
          "text": [
            "5\n",
            "6\n",
            "12\n"
          ]
        }
      ]
    },
    {
      "cell_type": "code",
      "source": [
        "    try:\n",
        "        Rectangle(10, \"2\")\n",
        "    except Exception as e:\n",
        "        print(\"[{}] {}\".format(e.__class__.__name__, e))\n",
        "\n",
        "    try:\n",
        "        r = Rectangle(10, 2)\n",
        "        r.width = -10\n",
        "    except Exception as e:\n",
        "        print(\"[{}] {}\".format(e.__class__.__name__, e))\n",
        "\n",
        "    try:\n",
        "        r = Rectangle(10, 2)\n",
        "        r.x = {}\n",
        "    except Exception as e:\n",
        "        print(\"[{}] {}\".format(e.__class__.__name__, e))\n",
        "\n",
        "    try:\n",
        "        Rectangle(10, 2, 3, -1)\n",
        "    except Exception as e:\n",
        "        print(\"[{}] {}\".format(e.__class__.__name__, e))"
      ],
      "metadata": {
        "colab": {
          "base_uri": "https://localhost:8080/"
        },
        "id": "jMV9PdafPuKp",
        "outputId": "231b4607-dd99-4c5e-d346-69012bbeadbf"
      },
      "execution_count": null,
      "outputs": [
        {
          "output_type": "stream",
          "name": "stdout",
          "text": [
            "[TypeError] height must be an integer\n",
            "[ValueError] width must be > 0\n",
            "[TypeError] x must be an integer\n",
            "[ValueError] y must be >= 0\n"
          ]
        }
      ]
    },
    {
      "cell_type": "code",
      "source": [
        "if __name__ == \"__main__\":\n",
        "\n",
        "    r1 = Rectangle(3, 2)\n",
        "    print(r1.area())\n",
        "\n",
        "    r2 = Rectangle(2, 10)\n",
        "    print(r2.area())\n",
        "\n",
        "    r3 = Rectangle(8, 7, 0, 0, 12)\n",
        "    print(r3.area())"
      ],
      "metadata": {
        "colab": {
          "base_uri": "https://localhost:8080/"
        },
        "id": "YjhsAP_qWX8d",
        "outputId": "b25a6ba7-eaef-40d9-d00a-7e2976d9d0af"
      },
      "execution_count": null,
      "outputs": [
        {
          "output_type": "stream",
          "name": "stdout",
          "text": [
            "6\n",
            "20\n",
            "56\n"
          ]
        }
      ]
    },
    {
      "cell_type": "code",
      "source": [
        "if __name__ == \"__main__\":\n",
        "\n",
        "    r1 = Rectangle(4, 6)\n",
        "    r1.display()\n",
        "\n",
        "    print(\"---\")\n",
        "\n",
        "    r1 = Rectangle(2, 2)\n",
        "    r1.display()"
      ],
      "metadata": {
        "colab": {
          "base_uri": "https://localhost:8080/"
        },
        "id": "IzFIBX3iathG",
        "outputId": "45caa5f0-4197-4446-90a9-6592a55c81ad"
      },
      "execution_count": null,
      "outputs": [
        {
          "output_type": "stream",
          "name": "stdout",
          "text": [
            "####\n",
            "####\n",
            "####\n",
            "####\n",
            "####\n",
            "####\n",
            "---\n",
            "##\n",
            "##\n"
          ]
        }
      ]
    },
    {
      "cell_type": "code",
      "source": [
        "if __name__ == \"__main__\":\n",
        "\n",
        "    r1 = Rectangle(4, 6, 2, 1, 12)\n",
        "    print(r1)\n",
        "\n",
        "    r2 = Rectangle(5, 5, 1)\n",
        "    print(r2)"
      ],
      "metadata": {
        "colab": {
          "base_uri": "https://localhost:8080/"
        },
        "id": "Hy-baWxjcZ7m",
        "outputId": "b57a4df2-2ccf-4698-e78e-229c7147930b"
      },
      "execution_count": null,
      "outputs": [
        {
          "output_type": "stream",
          "name": "stdout",
          "text": [
            "[Rectangle] (12) 2/1 - 4/6\n",
            "[Rectangle] (15) 1/0 - 5/5\n"
          ]
        }
      ]
    },
    {
      "cell_type": "code",
      "source": [
        "if __name__ == \"__main__\":\n",
        "\n",
        "    r1 = Rectangle(2, 3, 2, 2)\n",
        "    r1.display()\n",
        "\n",
        "    print(\"---\")\n",
        "\n",
        "    r2 = Rectangle(3, 2, 1, 0)\n",
        "    r2.display()\n"
      ],
      "metadata": {
        "id": "6TmusJRHnUR_",
        "colab": {
          "base_uri": "https://localhost:8080/"
        },
        "outputId": "4f7474cf-6753-404f-ca30-e6bee256e002"
      },
      "execution_count": null,
      "outputs": [
        {
          "output_type": "stream",
          "name": "stdout",
          "text": [
            "\n",
            "\n",
            "  ##\n",
            "  ##\n",
            "  ##\n",
            "---\n",
            " ###\n",
            " ###\n"
          ]
        }
      ]
    },
    {
      "cell_type": "code",
      "source": [
        "if __name__ == \"__main__\":\n",
        "\n",
        "    r1 = Rectangle(10, 10, 10, 10)\n",
        "    print(r1)\n",
        "\n",
        "    r1.update(89)\n",
        "    print(r1)\n",
        "\n",
        "    r1.update(89, 2)\n",
        "    print(r1)\n",
        "\n",
        "    r1.update(89, 2, 3)\n",
        "    print(r1)\n",
        "\n",
        "    r1.update(89, 2, 3, 4)\n",
        "    print(r1)\n",
        "\n",
        "    r1.update(89, 2, 3, 4, 5)\n",
        "    print(r1)"
      ],
      "metadata": {
        "colab": {
          "base_uri": "https://localhost:8080/"
        },
        "id": "VyM5x7M3rOBu",
        "outputId": "d515038f-4a07-4936-8d8e-2b1bf43bb39a"
      },
      "execution_count": null,
      "outputs": [
        {
          "output_type": "stream",
          "name": "stdout",
          "text": [
            "[Rectangle] (18) 10/10 - 10/10\n",
            "[Rectangle] (89) 10/10 - 10/10\n",
            "[Rectangle] (89) 10/10 - 2/10\n",
            "[Rectangle] (89) 10/10 - 2/3\n",
            "[Rectangle] (89) 4/10 - 2/3\n",
            "[Rectangle] (89) 4/5 - 2/3\n"
          ]
        }
      ]
    },
    {
      "cell_type": "code",
      "source": [
        "if __name__ == \"__main__\":\n",
        "\n",
        "    r1 = Rectangle(10, 10, 10, 10)\n",
        "    print(r1)\n",
        "\n",
        "    r1.update(height=1)\n",
        "    print(r1)\n",
        "\n",
        "    r1.update(width=1, x=2)\n",
        "    print(r1)\n",
        "\n",
        "    r1.update(y=1, width=2, x=3, id=89)\n",
        "    print(r1)\n",
        "\n",
        "    r1.update(x=1, height=2, y=3, width=4)\n",
        "    print(r1)"
      ],
      "metadata": {
        "colab": {
          "base_uri": "https://localhost:8080/"
        },
        "id": "iurKX4G2DlUI",
        "outputId": "72e46496-62ff-4d02-cd58-5c4619a107c2"
      },
      "execution_count": null,
      "outputs": [
        {
          "output_type": "stream",
          "name": "stdout",
          "text": [
            "[Rectangle] (19) 10/10 - 10/10\n",
            "[Rectangle] (19) 10/10 - 10/1\n",
            "[Rectangle] (19) 2/10 - 1/1\n",
            "[Rectangle] (89) 3/1 - 2/1\n",
            "[Rectangle] (89) 1/3 - 4/2\n"
          ]
        }
      ]
    },
    {
      "cell_type": "code",
      "source": [
        "if __name__ == \"__main__\":\n",
        "\n",
        "    s1 = Square(5)\n",
        "    print(s1)\n",
        "    print(s1.area())\n",
        "    s1.display()\n",
        "\n",
        "    print(\"---\")\n",
        "\n",
        "    s2 = Square(2, 2)\n",
        "    print(s2)\n",
        "    print(s2.area())\n",
        "    s2.display()\n",
        "\n",
        "    print(\"---\")\n",
        "\n",
        "    s3 = Square(3, 1, 3)\n",
        "    print(s3)\n",
        "    print(s3.area())\n",
        "    s3.display()"
      ],
      "metadata": {
        "colab": {
          "base_uri": "https://localhost:8080/"
        },
        "id": "K9IBUQ1bS85T",
        "outputId": "5ff5e87f-a474-473c-960b-5bf258391380"
      },
      "execution_count": null,
      "outputs": [
        {
          "output_type": "stream",
          "name": "stdout",
          "text": [
            "[Square] (20) 0/0 - 5\n",
            "25\n",
            "#####\n",
            "#####\n",
            "#####\n",
            "#####\n",
            "#####\n",
            "---\n",
            "[Square] (21) 2/2 - 2\n",
            "4\n",
            "  ##\n",
            "  ##\n",
            "---\n",
            "[Square] (22) 1/1 - 3\n",
            "9\n",
            "\n",
            "\n",
            "\n",
            " ###\n",
            " ###\n",
            " ###\n"
          ]
        }
      ]
    },
    {
      "cell_type": "code",
      "source": [
        "if __name__ == \"__main__\":\n",
        "\n",
        "    s1 = Square(5)\n",
        "    print(s1)\n",
        "    print(s1.size)\n",
        "    s1.size = 10\n",
        "    print(s1)\n",
        "\n",
        "    try:\n",
        "        s1.size = \"9\"\n",
        "    except Exception as e:\n",
        "        print(\"[{}] {}\".format(e.__class__.__name__, e))"
      ],
      "metadata": {
        "colab": {
          "base_uri": "https://localhost:8080/"
        },
        "id": "aurLVM4VfakP",
        "outputId": "1841110c-61db-4aed-b14f-57c0ddefc62d"
      },
      "execution_count": null,
      "outputs": [
        {
          "output_type": "stream",
          "name": "stdout",
          "text": [
            "[Square] (23) 0/0 - 5\n",
            "5\n",
            "[Square] (23) 0/0 - 10\n",
            "[TypeError] width must be an integer\n"
          ]
        }
      ]
    },
    {
      "cell_type": "code",
      "source": [
        "if __name__ == \"__main__\":\n",
        "\n",
        "    s1 = Square(5)\n",
        "    print(s1)\n",
        "\n",
        "    s1.update(10)\n",
        "    print(s1)\n",
        "\n",
        "    s1.update(1, 2)\n",
        "    print(s1)\n",
        "\n",
        "    s1.update(1, 2, 3)\n",
        "    print(s1)\n",
        "\n",
        "    s1.update(1, 2, 3, 4)\n",
        "    print(s1)\n",
        "\n",
        "    s1.update(x=12)\n",
        "    print(s1)\n",
        "\n",
        "    s1.update(size=7, y=1)\n",
        "    print(s1)\n",
        "\n",
        "    s1.update(size=7, id=89, y=1)\n",
        "    print(s1)"
      ],
      "metadata": {
        "id": "NTjSg6GHj6xA",
        "colab": {
          "base_uri": "https://localhost:8080/"
        },
        "outputId": "6468a335-e1cd-49d1-ce21-396a5b0f1b97"
      },
      "execution_count": null,
      "outputs": [
        {
          "output_type": "stream",
          "name": "stdout",
          "text": [
            "[Square] (24) 0/0 - 5\n",
            "[Square] (10) 0/0 - 5\n",
            "[Square] (1) 0/0 - 2\n",
            "[Square] (1) 3/3 - 2\n",
            "[Square] (1) 3/3 - 2\n",
            "[Square] (1) 12/12 - 2\n",
            "[Square] (1) 12/12 - 7\n",
            "[Square] (89) 12/12 - 7\n"
          ]
        }
      ]
    },
    {
      "cell_type": "code",
      "source": [
        "if __name__ == \"__main__\":\n",
        "\n",
        "    r1 = Rectangle(10, 2, 1, 9)\n",
        "    print(r1)\n",
        "    r1_dictionary = r1.to_dictionary()\n",
        "    print(r1_dictionary)\n",
        "    print(type(r1_dictionary))\n",
        "\n",
        "    r2 = Rectangle(1, 1)\n",
        "    print(r2)\n",
        "    r2.update(**r1_dictionary)\n",
        "    print(r2)\n",
        "    print(r1 == r2)"
      ],
      "metadata": {
        "colab": {
          "base_uri": "https://localhost:8080/"
        },
        "id": "kUrY69csqI2E",
        "outputId": "5daedbc9-fb35-4a74-fd5f-2d1d57b02fb6"
      },
      "execution_count": null,
      "outputs": [
        {
          "output_type": "stream",
          "name": "stdout",
          "text": [
            "[Rectangle] (25) 1/9 - 10/2\n",
            "{'id': 25, 'width': 10, 'height': 2, 'x': 1, 'y': 9}\n",
            "<class 'dict'>\n",
            "[Rectangle] (26) 0/0 - 1/1\n",
            "[Rectangle] (25) 1/9 - 10/2\n",
            "False\n"
          ]
        }
      ]
    },
    {
      "cell_type": "code",
      "source": [
        "if __name__ == \"__main__\":\n",
        "\n",
        "    s1 = Square(10, 2, 1)\n",
        "    print(s1)\n",
        "    s1_dictionary = s1.to_dictionary()\n",
        "    print(s1_dictionary)\n",
        "    print(type(s1_dictionary))\n",
        "\n",
        "    s2 = Square(1, 1)\n",
        "    print(s2)\n",
        "    s2.update(**s1_dictionary)\n",
        "    print(s2)\n",
        "    print(s1 == s2)"
      ],
      "metadata": {
        "colab": {
          "base_uri": "https://localhost:8080/"
        },
        "id": "LQY31OKMu5ML",
        "outputId": "47556527-d37e-4d28-f10d-825cfed5d2ff"
      },
      "execution_count": null,
      "outputs": [
        {
          "output_type": "stream",
          "name": "stdout",
          "text": [
            "[Square] (27) 2/2 - 10\n",
            "{'id': 27, 'size': 10, 'x': 2, 'y': 2}\n",
            "<class 'dict'>\n",
            "[Square] (28) 1/1 - 1\n",
            "[Square] (27) 2/2 - 10\n",
            "False\n"
          ]
        }
      ]
    },
    {
      "cell_type": "code",
      "source": [
        "if __name__ == \"__main__\":\n",
        "\n",
        "    r1 = Rectangle(10, 7, 2, 8)\n",
        "    dictionary = r1.to_dictionary()\n",
        "    json_dictionary = Base.to_json_string([dictionary])\n",
        "    print(dictionary)\n",
        "    print(type(dictionary))\n",
        "    print(json_dictionary)\n",
        "    print(type(json_dictionary))"
      ],
      "metadata": {
        "colab": {
          "base_uri": "https://localhost:8080/"
        },
        "id": "Kxg_0jVN0mWb",
        "outputId": "4588036d-7285-4227-d481-33415558779c"
      },
      "execution_count": null,
      "outputs": [
        {
          "output_type": "stream",
          "name": "stdout",
          "text": [
            "{'id': 29, 'width': 10, 'height': 7, 'x': 2, 'y': 8}\n",
            "<class 'dict'>\n",
            "[{\"id\": 29, \"width\": 10, \"height\": 7, \"x\": 2, \"y\": 8}]\n",
            "<class 'str'>\n"
          ]
        }
      ]
    },
    {
      "cell_type": "code",
      "source": [
        "if __name__ == \"__main__\":\n",
        "\n",
        "    r1 = Rectangle(10, 7, 2, 8)\n",
        "    r2 = Rectangle(2, 4)\n",
        "    Rectangle.save_to_file([r1, r2])\n",
        "\n",
        "    with open(\"Rectangle.json\", \"r\") as file:\n",
        "        print(file.read())"
      ],
      "metadata": {
        "colab": {
          "base_uri": "https://localhost:8080/"
        },
        "id": "JMRCiwVO56Sz",
        "outputId": "e20aaa75-d66f-40bc-8feb-b3c69bacc4d3"
      },
      "execution_count": null,
      "outputs": [
        {
          "output_type": "stream",
          "name": "stdout",
          "text": [
            "[{\"id\": 30, \"width\": 10, \"height\": 7, \"x\": 2, \"y\": 8}, {\"id\": 31, \"width\": 2, \"height\": 4, \"x\": 0, \"y\": 0}]\n"
          ]
        }
      ]
    },
    {
      "cell_type": "code",
      "source": [
        "if __name__ == \"__main__\":\n",
        "\n",
        "    list_input = [\n",
        "        {'id': 89, 'width': 10, 'height': 4}, \n",
        "        {'id': 7, 'width': 1, 'height': 7}\n",
        "    ]\n",
        "    json_list_input = Rectangle.to_json_string(list_input)\n",
        "    list_output = Rectangle.from_json_string(json_list_input)\n",
        "    print(\"[{}] {}\".format(type(list_input), list_input))\n",
        "    print(\"[{}] {}\".format(type(json_list_input), json_list_input))\n",
        "    print(\"[{}] {}\".format(type(list_output), list_output))"
      ],
      "metadata": {
        "colab": {
          "base_uri": "https://localhost:8080/"
        },
        "id": "jPtffvJiNISp",
        "outputId": "e23d2f0e-3745-4aa0-cf6b-6c0902b34269"
      },
      "execution_count": null,
      "outputs": [
        {
          "output_type": "stream",
          "name": "stdout",
          "text": [
            "[<class 'list'>] [{'id': 89, 'width': 10, 'height': 4}, {'id': 7, 'width': 1, 'height': 7}]\n",
            "[<class 'str'>] [{\"id\": 89, \"width\": 10, \"height\": 4}, {\"id\": 7, \"width\": 1, \"height\": 7}]\n",
            "[<class 'list'>] [{'id': 89, 'width': 10, 'height': 4}, {'id': 7, 'width': 1, 'height': 7}]\n"
          ]
        }
      ]
    },
    {
      "cell_type": "code",
      "source": [
        "if __name__ == \"__main__\":\n",
        "\n",
        "    r1 = Rectangle(3, 5, 1)\n",
        "    r1_dictionary = r1.to_dictionary()\n",
        "    r2 = Rectangle.create(**r1_dictionary)\n",
        "    print(r1)\n",
        "    print(r2)\n",
        "    print(r1 is r2)\n",
        "    print(r1 == r2)"
      ],
      "metadata": {
        "colab": {
          "base_uri": "https://localhost:8080/"
        },
        "id": "q5wECmGpTEO7",
        "outputId": "803d6e97-6adf-464e-88ab-17176b9d880e"
      },
      "execution_count": null,
      "outputs": [
        {
          "output_type": "stream",
          "name": "stdout",
          "text": [
            "[Rectangle] (32) 1/0 - 3/5\n",
            "[Rectangle] (32) 1/0 - 3/5\n",
            "False\n",
            "False\n"
          ]
        }
      ]
    },
    {
      "cell_type": "code",
      "source": [
        "if __name__ == \"__main__\":\n",
        "\n",
        "    r1 = Rectangle(10, 7, 2, 8)\n",
        "    r2 = Rectangle(2, 4)\n",
        "    list_rectangles_input = [r1, r2]\n",
        "\n",
        "    Rectangle.save_to_file(list_rectangles_input)\n",
        "\n",
        "    list_rectangles_output = Rectangle.load_from_file()\n",
        "\n",
        "    for rect in list_rectangles_input:\n",
        "        print(\"[{}] {}\".format(id(rect), rect))\n",
        "\n",
        "    print(\"---\")\n",
        "\n",
        "    for rect in list_rectangles_output:\n",
        "        print(\"[{}] {}\".format(id(rect), rect))\n",
        "\n",
        "    print(\"---\")\n",
        "    print(\"---\")\n",
        "\n",
        "    s1 = Square(5)\n",
        "    s2 = Square(7, 9, 1)\n",
        "    list_squares_input = [s1, s2]\n",
        "\n",
        "    Square.save_to_file(list_squares_input)\n",
        "\n",
        "    list_squares_output = Square.load_from_file()\n",
        "\n",
        "    for square in list_squares_input:\n",
        "        print(\"[{}] {}\".format(id(square), square))\n",
        "\n",
        "    print(\"---\")\n",
        "\n",
        "    for square in list_squares_output:\n",
        "        print(\"[{}] {}\".format(id(square), square))"
      ],
      "metadata": {
        "colab": {
          "base_uri": "https://localhost:8080/"
        },
        "id": "xtR_G17dVyQb",
        "outputId": "e4cc7061-9331-47b1-b6c1-92ceaef0bc57"
      },
      "execution_count": null,
      "outputs": [
        {
          "output_type": "stream",
          "name": "stdout",
          "text": [
            "[139683884059280] [Rectangle] (34) 2/8 - 10/7\n",
            "[139683883950336] [Rectangle] (35) 0/0 - 2/4\n",
            "---\n",
            "[139683886432656] [Rectangle] (34) 2/8 - 10/7\n",
            "[139683883952352] [Rectangle] (35) 0/0 - 2/4\n",
            "---\n",
            "---\n",
            "[139683883950432] [Square] (38) 0/0 - 5\n",
            "[139683883951536] [Square] (39) 9/9 - 7\n",
            "---\n",
            "[139683886434384] [Square] (38) 0/0 - 5\n",
            "[139683884059712] [Square] (39) 9/9 - 7\n"
          ]
        }
      ]
    }
  ]
}