{
  "cells": [
    {
      "cell_type": "code",
      "execution_count": null,
      "metadata": {
        "colab": {
          "base_uri": "https://localhost:8080/"
        },
        "id": "Rmcs6V9wQnwl",
        "outputId": "29497472-bc94-4f78-ba8a-ed918f79cb4e"
      },
      "outputs": [
        {
          "name": "stdout",
          "output_type": "stream",
          "text": [
            "abcdefghijklmnopqrstuvwxyz"
          ]
        }
      ],
      "source": [
        "for count in range(97, 123):\n",
        "\tprint(\"{}\".format(chr(count)), end=\"\")"
      ]
    },
    {
      "cell_type": "code",
      "execution_count": null,
      "metadata": {
        "colab": {
          "base_uri": "https://localhost:8080/"
        },
        "id": "viPKBpYHRaHb",
        "outputId": "3657b7d3-61bf-42d6-d3d4-7ae6368d1b97"
      },
      "outputs": [
        {
          "name": "stdout",
          "output_type": "stream",
          "text": [
            "abcdfghijklmnoprstuvwxyz"
          ]
        }
      ],
      "source": [
        "for count in range(97, 123):\n",
        "  if count != 113 and count != 101:\n",
        "    print(\"{}\".format(chr(count)), end=\"\")"
      ]
    },
    {
      "cell_type": "code",
      "execution_count": null,
      "metadata": {
        "colab": {
          "base_uri": "https://localhost:8080/"
        },
        "id": "wWccoBZzeCE5",
        "outputId": "d504046c-d265-4716-c934-ebe00980eac5"
      },
      "outputs": [
        {
          "name": "stdout",
          "output_type": "stream",
          "text": [
            "0 = 0x0\n",
            "1 = 0x1\n",
            "2 = 0x2\n",
            "3 = 0x3\n",
            "4 = 0x4\n",
            "5 = 0x5\n",
            "6 = 0x6\n",
            "7 = 0x7\n",
            "8 = 0x8\n",
            "9 = 0x9\n",
            "10 = 0xa\n",
            "11 = 0xb\n",
            "12 = 0xc\n",
            "13 = 0xd\n",
            "14 = 0xe\n",
            "15 = 0xf\n",
            "16 = 0x10\n",
            "17 = 0x11\n",
            "18 = 0x12\n",
            "19 = 0x13\n",
            "20 = 0x14\n",
            "21 = 0x15\n",
            "22 = 0x16\n",
            "23 = 0x17\n",
            "24 = 0x18\n",
            "25 = 0x19\n",
            "26 = 0x1a\n",
            "27 = 0x1b\n",
            "28 = 0x1c\n",
            "29 = 0x1d\n",
            "30 = 0x1e\n",
            "31 = 0x1f\n",
            "32 = 0x20\n",
            "33 = 0x21\n",
            "34 = 0x22\n",
            "35 = 0x23\n",
            "36 = 0x24\n",
            "37 = 0x25\n",
            "38 = 0x26\n",
            "39 = 0x27\n",
            "40 = 0x28\n",
            "41 = 0x29\n",
            "42 = 0x2a\n",
            "43 = 0x2b\n",
            "44 = 0x2c\n",
            "45 = 0x2d\n",
            "46 = 0x2e\n",
            "47 = 0x2f\n",
            "48 = 0x30\n",
            "49 = 0x31\n",
            "50 = 0x32\n",
            "51 = 0x33\n",
            "52 = 0x34\n",
            "53 = 0x35\n",
            "54 = 0x36\n",
            "55 = 0x37\n",
            "56 = 0x38\n",
            "57 = 0x39\n",
            "58 = 0x3a\n",
            "59 = 0x3b\n",
            "60 = 0x3c\n",
            "61 = 0x3d\n",
            "62 = 0x3e\n",
            "63 = 0x3f\n",
            "64 = 0x40\n",
            "65 = 0x41\n",
            "66 = 0x42\n",
            "67 = 0x43\n",
            "68 = 0x44\n",
            "69 = 0x45\n",
            "70 = 0x46\n",
            "71 = 0x47\n",
            "72 = 0x48\n",
            "73 = 0x49\n",
            "74 = 0x4a\n",
            "75 = 0x4b\n",
            "76 = 0x4c\n",
            "77 = 0x4d\n",
            "78 = 0x4e\n",
            "79 = 0x4f\n",
            "80 = 0x50\n",
            "81 = 0x51\n",
            "82 = 0x52\n",
            "83 = 0x53\n",
            "84 = 0x54\n",
            "85 = 0x55\n",
            "86 = 0x56\n",
            "87 = 0x57\n",
            "88 = 0x58\n",
            "89 = 0x59\n",
            "90 = 0x5a\n",
            "91 = 0x5b\n",
            "92 = 0x5c\n",
            "93 = 0x5d\n",
            "94 = 0x5e\n",
            "95 = 0x5f\n",
            "96 = 0x60\n",
            "97 = 0x61\n",
            "98 = 0x62\n"
          ]
        }
      ],
      "source": [
        "for count in range(0, 99):\n",
        "  print(\"{} = {}\".format(count, hex(count)))"
      ]
    },
    {
      "cell_type": "code",
      "execution_count": null,
      "metadata": {
        "colab": {
          "base_uri": "https://localhost:8080/"
        },
        "id": "0Vf9ERWmfcs8",
        "outputId": "19c9e259-739b-4acb-d12b-53d7fc3c2ee0"
      },
      "outputs": [
        {
          "name": "stdout",
          "output_type": "stream",
          "text": [
            "00, 01, 02, 03, 04, 05, 06, 07, 08, 09, 10, 11, 12, 13, 14, 15, 16, 17, 18, 19, 20, 21, 22, 23, 24, 25, 26, 27, 28, 29, 30, 31, 32, 33, 34, 35, 36, 37, 38, 39, 40, 41, 42, 43, 44, 45, 46, 47, 48, 49, 50, 51, 52, 53, 54, 55, 56, 57, 58, 59, 60, 61, 62, 63, 64, 65, 66, 67, 68, 69, 70, 71, 72, 73, 74, 75, 76, 77, 78, 79, 80, 81, 82, 83, 84, 85, 86, 87, 88, 89, 90, 91, 92, 93, 94, 95, 96, 97, 98, 99\n"
          ]
        }
      ],
      "source": [
        "for count in range(0,100):\n",
        "  if count != 99:\n",
        "    print(\"{}\".format(str(count).zfill(2)) ,end=\", \")\n",
        "  else:\n",
        "    print (\"{}\".format(count))"
      ]
    },
    {
      "cell_type": "code",
      "execution_count": null,
      "metadata": {
        "colab": {
          "base_uri": "https://localhost:8080/"
        },
        "id": "ZGro6rpqhoZ3",
        "outputId": "354146a0-3303-4a34-a7ca-9d23d8a3cca4"
      },
      "outputs": [
        {
          "name": "stdout",
          "output_type": "stream",
          "text": [
            "01, 02, 03, 04, 05, 06, 07, 08, 09, 12, 13, 14, 15, 16, 17, 18, 19, 23, 24, 25, 26, 27, 28, 29, 34, 35, 36, 37, 38, 39, 45, 46, 47, 48, 49, 56, 57, 58, 59, 67, 68, 69, 78, 79, 89\n"
          ]
        }
      ],
      "source": [
        "for a in range(0,10):\n",
        "  for b in range(1,10):\n",
        "    if a == b:\n",
        "      continue\n",
        "    elif b < a:\n",
        "      continue\n",
        "    elif a == 8 and b == 9:\n",
        "      print(\"{}{}\".format(a, b))\n",
        "    else:\n",
        "      print(\"{}{}\".format(a, b), end = \", \")"
      ]
    },
    {
      "cell_type": "code",
      "execution_count": null,
      "metadata": {
        "id": "Yd778DkGrsbG"
      },
      "outputs": [],
      "source": [
        "def islower(c):\n",
        "  middler = ord(c)\n",
        "  if middler <= 97 and middler >= 122:\n",
        "    return True\n",
        "  else:\n",
        "    return False"
      ]
    },
    {
      "cell_type": "code",
      "execution_count": 4,
      "metadata": {
        "id": "XjUZg_V1xKZZ"
      },
      "outputs": [],
      "source": [
        "def uppercase(str):\n",
        "    for place in str:\n",
        "        place = ord(place)\n",
        "        if 97 <= place <= 122:\n",
        "            place = place - 32\n",
        "        print(\"{}\".format(chr(place)), end='')\n",
        "    print()"
      ]
    },
    {
      "cell_type": "code",
      "execution_count": null,
      "metadata": {
        "id": "T1JO0I7Nz5w8"
      },
      "outputs": [],
      "source": [
        "def print_last_digit(number):\n",
        "    if number < 0:\n",
        "        lastDigit = (number * -1) % 10\n",
        "    else:\n",
        "        lastDigit = number % 10\n",
        "    print(lastDigit, end=\"\")\n",
        "    return lastDigit"
      ]
    },
    {
      "cell_type": "code",
      "execution_count": null,
      "metadata": {
        "id": "XfAV2DKh0qk4"
      },
      "outputs": [],
      "source": [
        "def add(a, b):\n",
        "  addValue = a + b\n",
        "  return addValue"
      ]
    },
    {
      "cell_type": "code",
      "execution_count": null,
      "metadata": {
        "id": "5myWukJe3Xbx"
      },
      "outputs": [],
      "source": [
        "def pow(a, b):\n",
        "  powerValue = a ** b\n",
        "  return powerValue"
      ]
    },
    {
      "cell_type": "code",
      "execution_count": null,
      "metadata": {
        "id": "5Lj8U4Zb4zlD"
      },
      "outputs": [],
      "source": [
        "def fizzbuzz():\n",
        "    for count in range(1, 101):\n",
        "        if count % 3 == 0 and count % 5 != 0:\n",
        "            print(\"Fizz \", end=\"\")\n",
        "        elif count % 5 == 0 and count % 3 != 0:\n",
        "            print(\"Buzz \", end=\"\")\n",
        "        elif count % 5 == 0 and count % 3 == 0:\n",
        "            print(\"FizzBuzz \", end=\"\")\n",
        "        elif count == 100:\n",
        "            print(\"{}\".format(count))\n",
        "        else:\n",
        "            print(\"{} \".format(count), end=\"\")"
      ]
    },
    {
      "cell_type": "code",
      "execution_count": null,
      "metadata": {
        "colab": {
          "background_save": true
        },
        "id": "niGbAAO3Ihzg"
      },
      "outputs": [],
      "source": [
        "for count in range(65, 123, -1):\n",
        "  if count % 2 == 0:\n",
        "    print(\"{}\".format(chr(count)))"
      ]
    },
    {
      "cell_type": "code",
      "execution_count": 6,
      "metadata": {
        "id": "MQcitYfrI7AA",
        "colab": {
          "base_uri": "https://localhost:8080/"
        },
        "outputId": "78951f85-1afe-476a-fb7c-afb887926e85"
      },
      "outputs": [
        {
          "output_type": "stream",
          "name": "stdout",
          "text": [
            "zYxWvUtSrQpOnMlKjIhGfEdCbA"
          ]
        }
      ],
      "source": [
        "for a in range(122, 96, -1):\n",
        "    if a % 2 == 1:\n",
        "        a -= 32\n",
        "    print(\"{:c}\".format(a), end=\"\")"
      ]
    },
    {
      "cell_type": "code",
      "source": [
        "def remove_char_at(str, n):\n",
        "    if n >= 0:\n",
        "        return (str[:n] + str[n + 1:])\n",
        "    else:\n",
        "        return (str)"
      ],
      "metadata": {
        "id": "Je0aBFpH8a4g"
      },
      "execution_count": 7,
      "outputs": []
    }
  ],
  "metadata": {
    "colab": {
      "provenance": []
    },
    "kernelspec": {
      "display_name": "Python 3",
      "name": "python3"
    },
    "language_info": {
      "name": "python"
    }
  },
  "nbformat": 4,
  "nbformat_minor": 0
}