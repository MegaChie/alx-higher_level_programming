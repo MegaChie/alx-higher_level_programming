{
  "nbformat": 4,
  "nbformat_minor": 0,
  "metadata": {
    "colab": {
      "provenance": [],
      "authorship_tag": "ABX9TyNsu6p6h3AGHLDu48PzWee+",
      "include_colab_link": true
    },
    "kernelspec": {
      "name": "python3",
      "display_name": "Python 3"
    },
    "language_info": {
      "name": "python"
    }
  },
  "cells": [
    {
      "cell_type": "markdown",
      "metadata": {
        "id": "view-in-github",
        "colab_type": "text"
      },
      "source": [
        "<a href=\"https://colab.research.google.com/github/MegaChie/alx-higher_level_programming/blob/main/0x03-python-data_structures/Notebook/0x03_Python_Data_Structures_Lists%2C_Tuples.ipynb\" target=\"_parent\"><img src=\"https://colab.research.google.com/assets/colab-badge.svg\" alt=\"Open In Colab\"/></a>"
      ]
    },
    {
      "cell_type": "code",
      "execution_count": null,
      "metadata": {
        "colab": {
          "base_uri": "https://localhost:8080/"
        },
        "id": "p0phIhrmznTg",
        "outputId": "6dde2d68-d816-41f6-d11b-0feeb3eba2f5"
      },
      "outputs": [
        {
          "output_type": "execute_result",
          "data": {
            "text/plain": [
              "[2, 3]"
            ]
          },
          "metadata": {},
          "execution_count": 11
        }
      ],
      "source": [
        "def print_list_integer(my_list=[]):\n",
        "    count = 0\n",
        "    while count < len(my_list):\n",
        "        print(\"{}\".format(my_list[count]))\n",
        "        count += 1"
      ]
    },
    {
      "cell_type": "code",
      "source": [
        "def element_at(my_list, idx):\n",
        "    count = int(idx)\n",
        "    if count < 0:\n",
        "        return None\n",
        "    elif count >= len(my_list):\n",
        "        return None\n",
        "    else:\n",
        "        print(\"{}\".format(my_list[count]))"
      ],
      "metadata": {
        "id": "Pd1jbnhBczZQ"
      },
      "execution_count": 74,
      "outputs": []
    },
    {
      "cell_type": "code",
      "source": [
        "alist = [1,2,3,4]\n",
        "element_at(alist, 1)"
      ],
      "metadata": {
        "colab": {
          "base_uri": "https://localhost:8080/"
        },
        "id": "TAYDiC6AzhSI",
        "outputId": "26c88069-1c4c-48d7-909f-1431ba6c80fb"
      },
      "execution_count": 75,
      "outputs": [
        {
          "output_type": "stream",
          "name": "stdout",
          "text": [
            "2\n"
          ]
        }
      ]
    },
    {
      "cell_type": "code",
      "source": [
        "def replace_in_list(my_list, idx, element):\n",
        "    if idx < 0:\n",
        "        return my_list\n",
        "    if idx >= len(my_list):\n",
        "        return my_list\n",
        "    else:\n",
        "        my_list[idx] = element\n",
        "        print(my_list)        "
      ],
      "metadata": {
        "id": "Px5gMk8tyMHS"
      },
      "execution_count": 76,
      "outputs": []
    },
    {
      "cell_type": "code",
      "source": [
        "alist = [1,2,3,4]\n",
        "print(alist)\n",
        "replace_in_list(alist, 3, 7)"
      ],
      "metadata": {
        "colab": {
          "base_uri": "https://localhost:8080/"
        },
        "outputId": "42dccac1-47ed-43e0-fb66-0c0743f03f55",
        "id": "gpwrrU7W1b5B"
      },
      "execution_count": 81,
      "outputs": [
        {
          "output_type": "stream",
          "name": "stdout",
          "text": [
            "[1, 2, 3, 4]\n",
            "[1, 2, 3, 7]\n"
          ]
        }
      ]
    },
    {
      "cell_type": "code",
      "source": [
        "def print_reversed_list_integer(my_list=[]):\n",
        "    place = len(my_list) - 1\n",
        "    while place > -1:\n",
        "        print(\"{}\".format(my_list[place]))\n",
        "        place -= 1"
      ],
      "metadata": {
        "id": "Kj27SL1JA6oI"
      },
      "execution_count": 87,
      "outputs": []
    },
    {
      "cell_type": "code",
      "source": [
        "alist = [1,2,3,4,5,6,7,8,9,0]\n",
        "print_reversed_list_integer(alist)"
      ],
      "metadata": {
        "colab": {
          "base_uri": "https://localhost:8080/"
        },
        "outputId": "ec131d13-9da2-455c-d8d9-b8e4264f506b",
        "id": "iyW10OApCBz8"
      },
      "execution_count": 89,
      "outputs": [
        {
          "output_type": "stream",
          "name": "stdout",
          "text": [
            "0\n",
            "9\n",
            "8\n",
            "7\n",
            "6\n",
            "5\n",
            "4\n",
            "3\n",
            "2\n",
            "1\n"
          ]
        }
      ]
    }
  ]
}