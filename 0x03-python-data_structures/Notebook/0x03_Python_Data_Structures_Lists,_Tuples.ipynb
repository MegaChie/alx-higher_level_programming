{
  "nbformat": 4,
  "nbformat_minor": 0,
  "metadata": {
    "colab": {
      "provenance": [],
      "authorship_tag": "ABX9TyOg4RALKqEiqvccVQEZiOmi",
      "include_colab_link": true
    },
    "kernelspec": {
      "name": "python3",
      "display_name": "Python 3"
    },
    "language_info": {
      "name": "python"
    }
  },
  "cells": [
    {
      "cell_type": "markdown",
      "metadata": {
        "id": "view-in-github",
        "colab_type": "text"
      },
      "source": [
        "<a href=\"https://colab.research.google.com/github/MegaChie/alx-higher_level_programming/blob/main/0x03-python-data_structures/Notebook/0x03_Python_Data_Structures_Lists%2C_Tuples.ipynb\" target=\"_parent\"><img src=\"https://colab.research.google.com/assets/colab-badge.svg\" alt=\"Open In Colab\"/></a>"
      ]
    },
    {
      "cell_type": "code",
      "execution_count": null,
      "metadata": {
        "colab": {
          "base_uri": "https://localhost:8080/"
        },
        "id": "p0phIhrmznTg",
        "outputId": "6dde2d68-d816-41f6-d11b-0feeb3eba2f5"
      },
      "outputs": [
        {
          "output_type": "execute_result",
          "data": {
            "text/plain": [
              "[2, 3]"
            ]
          },
          "metadata": {},
          "execution_count": 11
        }
      ],
      "source": [
        "def print_list_integer(my_list=[]):\n",
        "    for count in my_list:\n",
        "        print(\"{:d}\".format(count))"
      ]
    },
    {
      "cell_type": "code",
      "source": [
        "def element_at(my_list, idx):\n",
        "    count = int(idx)\n",
        "    if count < 0:\n",
        "        return None\n",
        "    elif count >= len(my_list):\n",
        "        return None\n",
        "    else:\n",
        "        return my_list[count]"
      ],
      "metadata": {
        "id": "Pd1jbnhBczZQ"
      },
      "execution_count": null,
      "outputs": []
    },
    {
      "cell_type": "code",
      "source": [
        "alist = [1,2,3,4]\n",
        "element_at(alist, 1)"
      ],
      "metadata": {
        "colab": {
          "base_uri": "https://localhost:8080/"
        },
        "id": "TAYDiC6AzhSI",
        "outputId": "26c88069-1c4c-48d7-909f-1431ba6c80fb"
      },
      "execution_count": null,
      "outputs": [
        {
          "output_type": "stream",
          "name": "stdout",
          "text": [
            "2\n"
          ]
        }
      ]
    },
    {
      "cell_type": "code",
      "source": [
        "def replace_in_list(my_list, idx, element):\n",
        "    if idx < 0:\n",
        "        return my_list\n",
        "    if idx >= len(my_list):\n",
        "        return my_list\n",
        "    else:\n",
        "        my_list[idx] = element\n",
        "        return my_list        "
      ],
      "metadata": {
        "id": "Px5gMk8tyMHS"
      },
      "execution_count": null,
      "outputs": []
    },
    {
      "cell_type": "code",
      "source": [
        "alist = [1,2,3,4]\n",
        "print(alist)\n",
        "replace_in_list(alist, 3, 7)"
      ],
      "metadata": {
        "colab": {
          "base_uri": "https://localhost:8080/"
        },
        "outputId": "42dccac1-47ed-43e0-fb66-0c0743f03f55",
        "id": "gpwrrU7W1b5B"
      },
      "execution_count": null,
      "outputs": [
        {
          "output_type": "stream",
          "name": "stdout",
          "text": [
            "[1, 2, 3, 4]\n",
            "[1, 2, 3, 7]\n"
          ]
        }
      ]
    },
    {
      "cell_type": "code",
      "source": [
        "def print_reversed_list_integer(my_list=[]):\n",
        "    place = len(my_list) - 1\n",
        "    while place > -1:\n",
        "        print(\"{}\".format(my_list[place]))\n",
        "        place -= 1"
      ],
      "metadata": {
        "id": "Kj27SL1JA6oI"
      },
      "execution_count": null,
      "outputs": []
    },
    {
      "cell_type": "code",
      "source": [
        "alist = [1,2,3,4,5,6,7,8,9,0]\n",
        "print_reversed_list_integer(alist)"
      ],
      "metadata": {
        "colab": {
          "base_uri": "https://localhost:8080/"
        },
        "outputId": "425fd716-f9cc-4c72-df86-371b83f5751b",
        "id": "iyW10OApCBz8"
      },
      "execution_count": null,
      "outputs": [
        {
          "output_type": "stream",
          "name": "stdout",
          "text": [
            "0\n",
            "9\n",
            "8\n",
            "7\n",
            "6\n",
            "5\n",
            "4\n",
            "3\n",
            "2\n",
            "1\n"
          ]
        }
      ]
    },
    {
      "cell_type": "code",
      "source": [
        "def new_in_list(my_list, idx, element):\n",
        "    if idx < 0:\n",
        "        return my_list\n",
        "    elif idx >= len(my_list):\n",
        "        return my_list\n",
        "    listCopy = list(my_list)\n",
        "    listCopy[idx] = element\n",
        "    return listCopy"
      ],
      "metadata": {
        "id": "91GyfgpWVGrc"
      },
      "execution_count": null,
      "outputs": []
    },
    {
      "cell_type": "code",
      "source": [
        "def no_c(my_string):\n",
        "    holder = list(my_string)\n",
        "    place = 0\n",
        "    for count in holder:\n",
        "        if count == 'c' or count == 'C':\n",
        "            holder[place] = \"\"\n",
        "            place += 1\n",
        "    return \"\".join(holder)"
      ],
      "metadata": {
        "id": "TEmFP58upDqP"
      },
      "execution_count": null,
      "outputs": []
    },
    {
      "cell_type": "code",
      "source": [
        "stringA = \"C is fun!\"\n",
        "stringB = \"Chicago\"\n",
        "stringC = \"Best School\"\n",
        "# no_c(stringA)\n",
        "no_c(stringB)\n",
        "# no_c(stringC)"
      ],
      "metadata": {
        "colab": {
          "base_uri": "https://localhost:8080/",
          "height": 36
        },
        "id": "w6Dl1c3TbxZE",
        "outputId": "8b8143a3-1b0b-4ef6-abad-3c552b9f7e8e"
      },
      "execution_count": null,
      "outputs": [
        {
          "output_type": "execute_result",
          "data": {
            "text/plain": [
              "'icago'"
            ],
            "application/vnd.google.colaboratory.intrinsic+json": {
              "type": "string"
            }
          },
          "metadata": {},
          "execution_count": 78
        }
      ]
    },
    {
      "cell_type": "code",
      "source": [
        "#!/usr/bin/python3\n",
        "def print_matrix_integer(matrix=[[]]):\n",
        "    if not matrix:\n",
        "        print()\n",
        "    else:\n",
        "        for raw in range(len(matrix)):\n",
        "            for collumn in range(len(matrix[raw])):\n",
        "                if collumn != len(matrix[raw]) - 1:\n",
        "                    space = ' '\n",
        "                else:\n",
        "                    space = ''\n",
        "                print(\"{:d}\".format(matrix[raw][collumn]), end=space)\n",
        "            print()"
      ],
      "metadata": {
        "id": "IAtsf13Massr"
      },
      "execution_count": null,
      "outputs": []
    },
    {
      "cell_type": "code",
      "source": [
        "mymatrix = [\n",
        "    [1, 2, 3],\n",
        "    [4, 5, 6],\n",
        "    [7, 8, 9]\n",
        "]\n",
        "print_matrix_integer(matrix)"
      ],
      "metadata": {
        "colab": {
          "base_uri": "https://localhost:8080/"
        },
        "id": "lcR0w0n-aFMP",
        "outputId": "f8248301-3b5e-43b0-9594-268b6b1c805d"
      },
      "execution_count": null,
      "outputs": [
        {
          "output_type": "stream",
          "name": "stdout",
          "text": [
            "1 2 3\n",
            "4 5 6\n",
            "7 8 9\n"
          ]
        }
      ]
    },
    {
      "cell_type": "code",
      "source": [
        "def add_tuple(tuple_a=(), tuple_b=()):\n",
        "    if len(tuple_a) > 2:\n",
        "        tuple_a = tuple_a[:2]\n",
        "    elif len(tuple_a) == 1:\n",
        "        tuple_a += (0,)\n",
        "    elif len(tuple_a) == 0:\n",
        "        tuple_a += (0, 0)\n",
        "    if len(tuple_b) > 2:\n",
        "        tuple_b = tuple_b[:2]\n",
        "    elif len(tuple_b) == 1:\n",
        "        tuple_b += (0,)\n",
        "    elif len(tuple_b) == 0:\n",
        "        tuple_b += (0, 0)\n",
        "    result = tuple(map(lambda i, j: i + j, tuple_a, tuple_b))\n",
        "    return result"
      ],
      "metadata": {
        "id": "cD035UWT9dKl"
      },
      "execution_count": null,
      "outputs": []
    },
    {
      "cell_type": "code",
      "source": [
        "# or this\n",
        "result = tuple(map(sum, zip(tuple_a, tuple_b)))"
      ],
      "metadata": {
        "id": "l9mTq5ECA4BY"
      },
      "execution_count": null,
      "outputs": []
    },
    {
      "cell_type": "code",
      "source": [
        "tuple_a = (1, 89)\n",
        "tuple_b = (88, 11)\n",
        "add_tuple(tuple_a, tuple_b)"
      ],
      "metadata": {
        "id": "BWSAxBybIc6U"
      },
      "execution_count": null,
      "outputs": []
    },
    {
      "cell_type": "code",
      "source": [
        "def multiple_returns(sentence):\n",
        "    if not sentence:\n",
        "        sentence = None\n",
        "    if sentence:\n",
        "        sen_len = len(sentence)\n",
        "    else:\n",
        "        sen_len = 0\n",
        "    return (sen_len, sentence if not sentence else sentence[:1])"
      ],
      "metadata": {
        "id": "cZtrzw3KATVX"
      },
      "execution_count": null,
      "outputs": []
    },
    {
      "cell_type": "code",
      "source": [
        "sentence = \"At school, I learnt C!\"\n",
        "multiple_returns(sentence)"
      ],
      "metadata": {
        "colab": {
          "base_uri": "https://localhost:8080/"
        },
        "id": "5uOmvqdKV592",
        "outputId": "c3e07247-4dbc-4baa-987a-ba3486f9db5f"
      },
      "execution_count": null,
      "outputs": [
        {
          "output_type": "execute_result",
          "data": {
            "text/plain": [
              "(22, 'A')"
            ]
          },
          "metadata": {},
          "execution_count": 4
        }
      ]
    },
    {
      "cell_type": "code",
      "source": [
        "def max_integer(my_list=[]):\n",
        "    count = 0\n",
        "    if len(my_list) == 0:\n",
        "        return None\n",
        "    else:\n",
        "        my_list.sort()\n",
        "        return my_list[-1]"
      ],
      "metadata": {
        "id": "XPb69ojxYV-P"
      },
      "execution_count": null,
      "outputs": []
    },
    {
      "cell_type": "code",
      "source": [
        "my_list = [1, 90, 2, 13, 374, 5, -13, 3]\n",
        "max_integer(my_list)"
      ],
      "metadata": {
        "colab": {
          "base_uri": "https://localhost:8080/"
        },
        "id": "b7Ea_tPPZQM7",
        "outputId": "b7ef803c-5ccb-41ea-c4ea-30b6cc3a3522"
      },
      "execution_count": null,
      "outputs": [
        {
          "output_type": "execute_result",
          "data": {
            "text/plain": [
              "374"
            ]
          },
          "metadata": {},
          "execution_count": 59
        }
      ]
    },
    {
      "cell_type": "code",
      "source": [
        "def divisible_by_2(my_list=[]):\n",
        "    divList = []\n",
        "    for place in my_list:\n",
        "        if place % 2 == 0:\n",
        "            divList.append(True)\n",
        "        else:\n",
        "            divList.append(False)\n",
        "    return divList"
      ],
      "metadata": {
        "id": "4G0_D6LvloUT"
      },
      "execution_count": 62,
      "outputs": []
    },
    {
      "cell_type": "code",
      "source": [
        "my_list = [0, 1, 2, 3, 4, 5, 6]\n",
        "divisible_by_2(my_list)"
      ],
      "metadata": {
        "colab": {
          "base_uri": "https://localhost:8080/"
        },
        "id": "Zp7MuNqCoCaw",
        "outputId": "3aee2793-5dcd-4702-e48c-576834ebc3f5"
      },
      "execution_count": 63,
      "outputs": [
        {
          "output_type": "execute_result",
          "data": {
            "text/plain": [
              "[True, False, True, False, True, False, True]"
            ]
          },
          "metadata": {},
          "execution_count": 63
        }
      ]
    },
    {
      "cell_type": "code",
      "source": [
        "def delete_at(my_list=[], idx=0):\n",
        "    if idx >= len(my_list):\n",
        "        return my_list\n",
        "    elif idx < 0:\n",
        "        return my_list\n",
        "    else:\n",
        "        del my_list[idx]"
      ],
      "metadata": {
        "id": "hYZK6b3csvPY"
      },
      "execution_count": 64,
      "outputs": []
    },
    {
      "cell_type": "code",
      "source": [
        "my_list = [1, 2, 3, 4, 5]\n",
        "idx = 3\n",
        "print(my_list)\n",
        "delete_at(my_list, idx)\n",
        "print(my_list)"
      ],
      "metadata": {
        "colab": {
          "base_uri": "https://localhost:8080/"
        },
        "id": "PkVfp1xuuFwY",
        "outputId": "2e0b7310-dc16-4c76-817e-617da2b48784"
      },
      "execution_count": 66,
      "outputs": [
        {
          "output_type": "stream",
          "name": "stdout",
          "text": [
            "[1, 2, 3, 4, 5]\n",
            "[1, 2, 3, 5]\n"
          ]
        }
      ]
    },
    {
      "cell_type": "code",
      "source": [
        "a = 89\n",
        "b = 10\n",
        "a ,b = b, a\n",
        "print(\"a={:d} - b={:d}\".format(a, b))"
      ],
      "metadata": {
        "colab": {
          "base_uri": "https://localhost:8080/"
        },
        "id": "-Q6iD_6NupYh",
        "outputId": "4d54ad0b-c292-436d-fc59-c711f0752d58"
      },
      "execution_count": 67,
      "outputs": [
        {
          "output_type": "stream",
          "name": "stdout",
          "text": [
            "a=10 - b=89\n"
          ]
        }
      ]
    }
  ]
}