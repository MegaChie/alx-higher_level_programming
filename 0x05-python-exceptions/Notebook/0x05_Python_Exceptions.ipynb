{
  "nbformat": 4,
  "nbformat_minor": 0,
  "metadata": {
    "colab": {
      "provenance": [],
      "authorship_tag": "ABX9TyMcj4CelSZ08j1pEd1u4P6b",
      "include_colab_link": true
    },
    "kernelspec": {
      "name": "python3",
      "display_name": "Python 3"
    },
    "language_info": {
      "name": "python"
    }
  },
  "cells": [
    {
      "cell_type": "markdown",
      "metadata": {
        "id": "view-in-github",
        "colab_type": "text"
      },
      "source": [
        "<a href=\"https://colab.research.google.com/github/MegaChie/alx-higher_level_programming/blob/main/0x05-python-exceptions/Notebook/0x05_Python_Exceptions.ipynb\" target=\"_parent\"><img src=\"https://colab.research.google.com/assets/colab-badge.svg\" alt=\"Open In Colab\"/></a>"
      ]
    },
    {
      "cell_type": "code",
      "execution_count": 98,
      "metadata": {
        "id": "pA3iUuBh7BEF"
      },
      "outputs": [],
      "source": [
        "def safe_print_list(my_list=[], x=0):\n",
        "    try:\n",
        "        count = 0\n",
        "        while count < x:\n",
        "            print(\"{}\".format(my_list[count]), end='')\n",
        "            count += 1\n",
        "        print()\n",
        "        return count\n",
        "    except IndexError:\n",
        "        print()\n",
        "        return count"
      ]
    },
    {
      "cell_type": "code",
      "source": [
        "my_list = [1, 2, 3, 4, 5]\n",
        "safe_print_list(my_list, 2)\n",
        "safe_print_list(my_list, len(my_list))\n",
        "safe_print_list(my_list, len(my_list) + 2)"
      ],
      "metadata": {
        "colab": {
          "base_uri": "https://localhost:8080/"
        },
        "id": "6Y0ojiNZiokO",
        "outputId": "b35a0fec-67a1-4510-a103-e222a91e489b"
      },
      "execution_count": 99,
      "outputs": [
        {
          "output_type": "stream",
          "name": "stdout",
          "text": [
            "12\n",
            "12345\n",
            "12345\n"
          ]
        },
        {
          "output_type": "execute_result",
          "data": {
            "text/plain": [
              "5"
            ]
          },
          "metadata": {},
          "execution_count": 99
        }
      ]
    },
    {
      "cell_type": "code",
      "source": [
        "#!/usr/bin/python3\n",
        "def safe_print_integer(value):\n",
        "    try:\n",
        "        print(\"{:d}\".format(value))\n",
        "        return True\n",
        "    except (ValueError, TypeError):\n",
        "        return False"
      ],
      "metadata": {
        "id": "723Itt6Bo9QJ"
      },
      "execution_count": 100,
      "outputs": []
    },
    {
      "cell_type": "code",
      "source": [
        "value = 89\n",
        "safe_print_integer(value)\n",
        "value = -89\n",
        "safe_print_integer(value)\n",
        "value = \"School\"\n",
        "safe_print_integer(value)"
      ],
      "metadata": {
        "colab": {
          "base_uri": "https://localhost:8080/"
        },
        "id": "PR4mu1S7u-Yy",
        "outputId": "e5cdf5c2-d91b-40da-eb2d-cc8fcd155baf"
      },
      "execution_count": 101,
      "outputs": [
        {
          "output_type": "stream",
          "name": "stdout",
          "text": [
            "89\n",
            "-89\n"
          ]
        },
        {
          "output_type": "execute_result",
          "data": {
            "text/plain": [
              "False"
            ]
          },
          "metadata": {},
          "execution_count": 101
        }
      ]
    },
    {
      "cell_type": "code",
      "source": [
        "def safe_print_list_integers(my_list=[], x=0):\n",
        "    count = 0\n",
        "    errorsCount = 0\n",
        "    while count < x:\n",
        "        try:\n",
        "            print(\"{:d}\".format(my_list[count]), end='')\n",
        "            count += 1\n",
        "        except (ValueError, TypeError):\n",
        "            count += 1\n",
        "            errorsCount += 1\n",
        "    count -= errorsCount\n",
        "    print()\n",
        "    return count"
      ],
      "metadata": {
        "id": "Dvf9rzn5xJ7R"
      },
      "execution_count": 10,
      "outputs": []
    },
    {
      "cell_type": "code",
      "source": [
        "my_list = [1, 2, 3, 4, 5]\n",
        "safe_print_list_integers(my_list, 2)\n",
        "my_list = [1, 2, 3, \"School\", 4, 5, [1, 2, 3]]\n",
        "nb_print = safe_print_list_integers(my_list, len(my_list))\n",
        "safe_print_list_integers(my_list, len(my_list) + 2)"
      ],
      "metadata": {
        "colab": {
          "base_uri": "https://localhost:8080/"
        },
        "id": "ckr4kH9wxpHy",
        "outputId": "c0bad481-a27c-45a1-ea3d-566b30a335c1"
      },
      "execution_count": 11,
      "outputs": [
        {
          "output_type": "stream",
          "name": "stdout",
          "text": [
            "12\n",
            "12345\n",
            "12345\n"
          ]
        },
        {
          "output_type": "execute_result",
          "data": {
            "text/plain": [
              "5"
            ]
          },
          "metadata": {},
          "execution_count": 11
        }
      ]
    },
    {
      "cell_type": "code",
      "source": [
        "def safe_print_division(a, b):\n",
        "    try:\n",
        "        result = a / b\n",
        "    except ZeroDivisionError:\n",
        "        result = None\n",
        "    finally:\n",
        "        print(\"Inside result: {}\".format(result))\n",
        "        return result"
      ],
      "metadata": {
        "id": "XwXU_cs3D88o"
      },
      "execution_count": 14,
      "outputs": []
    },
    {
      "cell_type": "code",
      "source": [
        "a = 12\n",
        "b = 2\n",
        "safe_print_division(a, b)\n",
        "a = 12\n",
        "b = 0\n",
        "safe_print_division(a, b)"
      ],
      "metadata": {
        "colab": {
          "base_uri": "https://localhost:8080/"
        },
        "id": "I_iHYOhx3nOj",
        "outputId": "6a479ea1-d5f6-4a8c-8e8c-d11f2e223259"
      },
      "execution_count": 15,
      "outputs": [
        {
          "output_type": "stream",
          "name": "stdout",
          "text": [
            "Inside result: 6.0\n",
            "Inside result: None\n"
          ]
        }
      ]
    },
    {
      "cell_type": "code",
      "source": [
        "def list_division(my_list_1, my_list_2, list_length):\n",
        "    place = 0\n",
        "    length = []\n",
        "    while place < list_length:\n",
        "        try:\n",
        "            res = my_list_1[place] / my_list_2[place]\n",
        "        except ZeroDivisionError:\n",
        "            res = 0\n",
        "            print(\"division by 0\")\n",
        "        except TypeError:\n",
        "            res = 0\n",
        "            print(\"wrong type\")\n",
        "        except IndexError:\n",
        "            res = 0\n",
        "            print(\"out of range\")\n",
        "        finally:\n",
        "            place += 1\n",
        "            length.append(res)\n",
        "    return length"
      ],
      "metadata": {
        "id": "HaO8W-qjFpco"
      },
      "execution_count": 16,
      "outputs": []
    },
    {
      "cell_type": "code",
      "source": [
        "my_l_1 = [10, 8, 4]\n",
        "my_l_2 = [2, 4, 4]\n",
        "list_division(my_l_1, my_l_2, max(len(my_l_1), len(my_l_2)))\n",
        "my_l_1 = [10, 8, 4, 4]\n",
        "my_l_2 = [2, 0, \"H\", 2, 7]\n",
        "list_division(my_l_1, my_l_2, max(len(my_l_1), len(my_l_2)))"
      ],
      "metadata": {
        "colab": {
          "base_uri": "https://localhost:8080/"
        },
        "id": "ZUJ_hxyNFqrv",
        "outputId": "f8a52bb0-8d50-4af6-e369-96b260f9f849"
      },
      "execution_count": 17,
      "outputs": [
        {
          "output_type": "stream",
          "name": "stdout",
          "text": [
            "division by 0\n",
            "wrong type\n",
            "out of range\n"
          ]
        },
        {
          "output_type": "execute_result",
          "data": {
            "text/plain": [
              "[5.0, 0, 0, 2.0, 0]"
            ]
          },
          "metadata": {},
          "execution_count": 17
        }
      ]
    },
    {
      "cell_type": "code",
      "source": [
        "def raise_exception():\n",
        "    raise TypeError(\"new exception\")"
      ],
      "metadata": {
        "id": "TaQuVpfPHkmI"
      },
      "execution_count": null,
      "outputs": []
    },
    {
      "cell_type": "code",
      "source": [
        "def raise_exception_msg(message=\"\"):\n",
        "    raise NameError(message)"
      ],
      "metadata": {
        "id": "KB7EF9K3IJEX"
      },
      "execution_count": null,
      "outputs": []
    },
    {
      "cell_type": "code",
      "source": [
        "import sys\n",
        "\n",
        "\n",
        "def safe_print_integer_err(value):\n",
        "    try:\n",
        "        print(\"{:d}\".format(value))\n",
        "        return (True)\n",
        "    except (TypeError, ValueError):\n",
        "        print(\"Exception: {}\".format(sys.exc_info()[1]), file=sys.stderr)\n",
        "        return (False)"
      ],
      "metadata": {
        "id": "YQ3OVyt0KmJY"
      },
      "execution_count": 19,
      "outputs": []
    },
    {
      "cell_type": "code",
      "source": [
        "value = 89\n",
        "safe_print_integer_err(value)\n",
        "value = -89\n",
        "safe_print_integer_err(value)\n",
        "value = \"School\"\n",
        "safe_print_integer_err(value)"
      ],
      "metadata": {
        "colab": {
          "base_uri": "https://localhost:8080/"
        },
        "outputId": "366c0b88-cbed-44b1-a810-e70565ce808b",
        "id": "kS3SseJgKxi8"
      },
      "execution_count": 21,
      "outputs": [
        {
          "output_type": "stream",
          "name": "stdout",
          "text": [
            "89\n",
            "-89\n"
          ]
        },
        {
          "output_type": "stream",
          "name": "stderr",
          "text": [
            "Exception: Unknown format code 'd' for object of type 'str'\n"
          ]
        },
        {
          "output_type": "execute_result",
          "data": {
            "text/plain": [
              "False"
            ]
          },
          "metadata": {},
          "execution_count": 21
        }
      ]
    },
    {
      "cell_type": "code",
      "source": [
        "import sys\n",
        "\n",
        "\n",
        "def safe_function(fct, *args):\n",
        "    try:\n",
        "        return fct(*args)\n",
        "    except Exception as e:\n",
        "        print(\"Exception: {}\".format(e), file=sys.stderr)\n",
        "        return None"
      ],
      "metadata": {
        "id": "DSSk9YP6LoLc"
      },
      "execution_count": 24,
      "outputs": []
    },
    {
      "cell_type": "code",
      "source": [
        "def my_div(a, b):\n",
        "    return a / b\n",
        "\n",
        "def print_list(my_list, len):\n",
        "    i = 0\n",
        "    while i < len:\n",
        "        print(my_list[i])\n",
        "        i += 1\n",
        "    return len\n",
        "safe_function(my_div, 10, 2)\n",
        "safe_function(my_div, 10, 0)\n",
        "safe_function(print_list, [1, 2, 3, 4], 10)"
      ],
      "metadata": {
        "id": "P8SN4jPtMIub"
      },
      "execution_count": null,
      "outputs": []
    },
    {
      "cell_type": "code",
      "source": [
        "def magic_calculation(a, b):\n",
        "    result = 0\n",
        "    for i in range(1, 3):\n",
        "        try:\n",
        "            if i > a:\n",
        "                raise Exception('Too far')\n",
        "            else:\n",
        "                result += (a ** b) / i\n",
        "        except Exception:\n",
        "            result = b + a\n",
        "            break\n",
        "    return (result)"
      ],
      "metadata": {
        "id": "qxifrbe3MvAH"
      },
      "execution_count": null,
      "outputs": []
    }
  ]
}