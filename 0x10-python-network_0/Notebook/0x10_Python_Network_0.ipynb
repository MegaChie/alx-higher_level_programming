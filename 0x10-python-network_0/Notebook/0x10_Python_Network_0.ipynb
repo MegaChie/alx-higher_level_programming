{
  "nbformat": 4,
  "nbformat_minor": 0,
  "metadata": {
    "colab": {
      "provenance": [],
      "authorship_tag": "ABX9TyO8TAvBztBe/ISSRzxnAs1B",
      "include_colab_link": true
    },
    "kernelspec": {
      "name": "python3",
      "display_name": "Python 3"
    },
    "language_info": {
      "name": "python"
    }
  },
  "cells": [
    {
      "cell_type": "markdown",
      "metadata": {
        "id": "view-in-github",
        "colab_type": "text"
      },
      "source": [
        "<a href=\"https://colab.research.google.com/github/MegaChie/alx-higher_level_programming/blob/main/0x10-python-network_0/Notebook/0x10_Python_Network_0.ipynb\" target=\"_parent\"><img src=\"https://colab.research.google.com/assets/colab-badge.svg\" alt=\"Open In Colab\"/></a>"
      ]
    },
    {
      "cell_type": "code",
      "execution_count": null,
      "metadata": {
        "id": "Jwz_Xcow4i5X"
      },
      "outputs": [],
      "source": [
        "\"\"\" Find a peak \"\"\"\n",
        "\n",
        "\n",
        "def find_peak(list_of_integers):\n",
        "    \"\"\" look for a peak in the given list \"\"\"\n",
        "    n = len(list_of_integers)\n",
        "    if n == 0:\n",
        "        return None\n",
        "    start = 0\n",
        "    end = n - 1\n",
        "    while start < end:\n",
        "        mid = (start + end) // 2\n",
        "        if list_of_integers[mid] > list_of_integers[mid + 1]:\n",
        "            end = mid\n",
        "        else:\n",
        "            start = mid + 1\n",
        "    if start == n - 1:\n",
        "        return list_of_integers[start]\n",
        "    return list_of_integers[start]"
      ]
    }
  ]
}