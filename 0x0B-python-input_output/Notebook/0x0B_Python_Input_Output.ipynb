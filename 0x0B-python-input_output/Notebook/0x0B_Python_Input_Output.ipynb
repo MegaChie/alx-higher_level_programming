{
  "nbformat": 4,
  "nbformat_minor": 0,
  "metadata": {
    "colab": {
      "provenance": [],
      "authorship_tag": "ABX9TyMqSnhBXh83XXl+mQ0SQoBr",
      "include_colab_link": true
    },
    "kernelspec": {
      "name": "python3",
      "display_name": "Python 3"
    },
    "language_info": {
      "name": "python"
    }
  },
  "cells": [
    {
      "cell_type": "markdown",
      "metadata": {
        "id": "view-in-github",
        "colab_type": "text"
      },
      "source": [
        "<a href=\"https://colab.research.google.com/github/MegaChie/alx-higher_level_programming/blob/main/0x0B-python-input_output/Notebook/0x0B_Python_Input_Output.ipynb\" target=\"_parent\"><img src=\"https://colab.research.google.com/assets/colab-badge.svg\" alt=\"Open In Colab\"/></a>"
      ]
    },
    {
      "cell_type": "code",
      "execution_count": 3,
      "metadata": {
        "id": "8KmmSk1PeOOD"
      },
      "outputs": [],
      "source": [
        "\"\"\" user definned function. \"\"\"\n",
        "\n",
        "\n",
        "def read_file(filename=\"\"):\n",
        "    \"\"\" Read file \"\"\"\n",
        "    with open(filename, encoding=\"utf-8\") as f:\n",
        "        reader = f.read()\n",
        "        print(reader, end=\"\")"
      ]
    },
    {
      "cell_type": "code",
      "source": [
        "\"\"\" user definned function. \"\"\"\n",
        "\n",
        "\n",
        "def write_file(filename=\"\", text=\"\"):\n",
        "    \"\"\" Write to a file \"\"\"\n",
        "    with open(filename, 'w', encoding=\"utf-8\") as writer:\n",
        "        writer.write(text)\n",
        "        return len(text)"
      ],
      "metadata": {
        "id": "a2KTMfL8Odeo"
      },
      "execution_count": 13,
      "outputs": []
    },
    {
      "cell_type": "code",
      "source": [
        "nb_characters = write_file(\"my_first_file.txt\", \"This School is so cool!\\n\")\n",
        "print(nb_characters)\n",
        "# the count in the ALX website is worng. i counted it by hand myself"
      ],
      "metadata": {
        "colab": {
          "base_uri": "https://localhost:8080/"
        },
        "id": "rI9d6cKPPg_n",
        "outputId": "ae897dd8-ef77-4706-bc0e-ad2bef5584fe"
      },
      "execution_count": 14,
      "outputs": [
        {
          "output_type": "stream",
          "name": "stdout",
          "text": [
            "24\n"
          ]
        }
      ]
    },
    {
      "cell_type": "code",
      "source": [
        "\"\"\" user definned function. \"\"\"\n",
        "\n",
        "\n",
        "def append_write(filename=\"\", text=\"\"):\n",
        "    \"\"\" Append to a file. \"\"\"\n",
        "    with open(filename, 'a', encoding=\"utf-8\") as appender:\n",
        "        appender.write(text)\n",
        "        return len(text)\n",
        "# note: you should return character count. while not present in the description\n",
        "# of task, it is present in the example"
      ],
      "metadata": {
        "id": "Qqn4b5epS12g"
      },
      "execution_count": 18,
      "outputs": []
    },
    {
      "cell_type": "code",
      "source": [
        "nb_characters_added = append_write(\"file_append.txt\", \"This School is so cool!\\n\")\n",
        "print(nb_characters_added)"
      ],
      "metadata": {
        "colab": {
          "base_uri": "https://localhost:8080/"
        },
        "id": "LcK8v0V_VDyX",
        "outputId": "79952739-ffc3-47f2-9c4e-e10b25149fff"
      },
      "execution_count": 19,
      "outputs": [
        {
          "output_type": "stream",
          "name": "stdout",
          "text": [
            "None\n"
          ]
        }
      ]
    },
    {
      "cell_type": "code",
      "source": [
        "\"\"\" user definned function. \"\"\"\n",
        "\n",
        "\n",
        "import json\n",
        "\n",
        "\n",
        "def to_json_string(my_obj):\n",
        "    \"\"\" To JSON string. \"\"\"\n",
        "    return json.dumps(my_obj)"
      ],
      "metadata": {
        "id": "uaYtguvhWgGK"
      },
      "execution_count": 20,
      "outputs": []
    },
    {
      "cell_type": "code",
      "source": [
        "my_list = [1, 2, 3]\n",
        "s_my_list = to_json_string(my_list)\n",
        "print(s_my_list)\n",
        "print(type(s_my_list))\n",
        "\n",
        "my_dict = { \n",
        "    'id': 12,\n",
        "    'name': \"John\",\n",
        "    'places': [ \"San Francisco\", \"Tokyo\" ],\n",
        "    'is_active': True,\n",
        "    'info': {\n",
        "        'age': 36,\n",
        "        'average': 3.14\n",
        "    }\n",
        "}\n",
        "s_my_dict = to_json_string(my_dict)\n",
        "print(s_my_dict)\n",
        "print(type(s_my_dict))\n",
        "\n",
        "try:\n",
        "    my_set = { 132, 3 }\n",
        "    s_my_set = to_json_string(my_set)\n",
        "    print(s_my_set)\n",
        "    print(type(s_my_set))\n",
        "except Exception as e:\n",
        "    print(\"[{}] {}\".format(e.__class__.__name__, e))"
      ],
      "metadata": {
        "colab": {
          "base_uri": "https://localhost:8080/"
        },
        "id": "Fyo2ZrMvbWv6",
        "outputId": "2c301491-dd94-468d-92ab-1645aa5a7229"
      },
      "execution_count": 21,
      "outputs": [
        {
          "output_type": "stream",
          "name": "stdout",
          "text": [
            "[1, 2, 3]\n",
            "<class 'str'>\n",
            "{\"id\": 12, \"name\": \"John\", \"places\": [\"San Francisco\", \"Tokyo\"], \"is_active\": true, \"info\": {\"age\": 36, \"average\": 3.14}}\n",
            "<class 'str'>\n",
            "[TypeError] Object of type set is not JSON serializable\n"
          ]
        }
      ]
    },
    {
      "cell_type": "code",
      "source": [
        "\"\"\" user definned function. \"\"\"\n",
        "\n",
        "\n",
        "import json\n",
        "\n",
        "\n",
        "def from_json_string(my_str):\n",
        "    \"\"\" From JSON string to Object \"\"\"\n",
        "    return json.loads(my_str)"
      ],
      "metadata": {
        "id": "QjXPGmJlZzcP"
      },
      "execution_count": 22,
      "outputs": []
    },
    {
      "cell_type": "code",
      "source": [
        "s_my_list = \"[1, 2, 3]\"\n",
        "my_list = from_json_string(s_my_list)\n",
        "print(my_list)\n",
        "print(type(my_list))\n",
        "\n",
        "s_my_dict = \"\"\"\n",
        "{\"is_active\": true, \"info\": {\"age\": 36, \"average\": 3.14}, \n",
        "\"id\": 12, \"name\": \"John\", \"places\": [\"San Francisco\", \"Tokyo\"]}\n",
        "\"\"\"\n",
        "my_dict = from_json_string(s_my_dict)\n",
        "print(my_dict)\n",
        "print(type(my_dict))\n",
        "\n",
        "try:\n",
        "    s_my_dict = \"\"\"\n",
        "    {\"is_active\": true, 12 }\n",
        "    \"\"\"\n",
        "    my_dict = from_json_string(s_my_dict)\n",
        "    print(my_dict)\n",
        "    print(type(my_dict))\n",
        "except Exception as e:\n",
        "    print(\"[{}] {}\".format(e.__class__.__name__, e))"
      ],
      "metadata": {
        "colab": {
          "base_uri": "https://localhost:8080/"
        },
        "id": "-Z_3c0qsbeDm",
        "outputId": "70b9c689-ba60-4321-94a1-77b9afa117c8"
      },
      "execution_count": 23,
      "outputs": [
        {
          "output_type": "stream",
          "name": "stdout",
          "text": [
            "[1, 2, 3]\n",
            "<class 'list'>\n",
            "{'is_active': True, 'info': {'age': 36, 'average': 3.14}, 'id': 12, 'name': 'John', 'places': ['San Francisco', 'Tokyo']}\n",
            "<class 'dict'>\n",
            "[JSONDecodeError] Expecting property name enclosed in double quotes: line 2 column 25 (char 25)\n"
          ]
        }
      ]
    },
    {
      "cell_type": "code",
      "source": [
        "\"\"\" user definned function. \"\"\"\n",
        "\n",
        "\n",
        "import json\n",
        "\n",
        "\n",
        "def save_to_json_file(my_obj, filename):\n",
        "    \"\"\" Save Object to a file. \"\"\"\n",
        "    with open(filename, 'w', encoding=\"utf-8\") as fileCreate:\n",
        "        json.dump(my_obj, fileCreate)"
      ],
      "metadata": {
        "id": "SR0JbXWsb8Ml"
      },
      "execution_count": 27,
      "outputs": []
    },
    {
      "cell_type": "code",
      "source": [
        "filename = \"my_list.json\"\n",
        "my_list = [1, 2, 3]\n",
        "save_to_json_file(my_list, filename)\n",
        "\n",
        "filename = \"my_dict.json\"\n",
        "my_dict = { \n",
        "    'id': 12,\n",
        "    'name': \"John\",\n",
        "    'places': [ \"San Francisco\", \"Tokyo\" ],\n",
        "    'is_active': True,\n",
        "    'info': {\n",
        "        'age': 36,\n",
        "        'average': 3.14\n",
        "    }\n",
        "}\n",
        "save_to_json_file(my_dict, filename)\n",
        "\n",
        "try:\n",
        "    filename = \"my_set.json\"\n",
        "    my_set = { 132, 3 }\n",
        "    save_to_json_file(my_set, filename)\n",
        "except Exception as e:\n",
        "    print(\"[{}] {}\".format(e.__class__.__name__, e))"
      ],
      "metadata": {
        "colab": {
          "base_uri": "https://localhost:8080/"
        },
        "id": "P_IrdiU0dV2c",
        "outputId": "e6356e0a-deaa-4c07-da58-d0793e4ec7cc"
      },
      "execution_count": 28,
      "outputs": [
        {
          "output_type": "stream",
          "name": "stdout",
          "text": [
            "[TypeError] Object of type set is not JSON serializable\n"
          ]
        }
      ]
    },
    {
      "cell_type": "code",
      "source": [
        "\"\"\" user definned function. \"\"\"\n",
        "\n",
        "\n",
        "import json\n",
        "\n",
        "\n",
        "def load_from_json_file(filename):\n",
        "    \"\"\" Create object from a JSON file \"\"\"\n",
        "    with open(filename, 'r', encoding=\"utf-8\") as fileLoader:\n",
        "        return json.load(fileLoader)"
      ],
      "metadata": {
        "id": "etkqSyX8xGsT"
      },
      "execution_count": 8,
      "outputs": []
    },
    {
      "cell_type": "code",
      "source": [
        "import sys\n",
        "# save_to_json_file = __import__('5-save_to_json_file').save_to_json_file\n",
        "# load_from_json_file = __import__('6-load_from_json_file').load_from_json_file\n",
        "try:\n",
        "    loadFile = load_from_json_file(\"add_item.json\")\n",
        "except FileNotFoundError:\n",
        "    loadFile = []\n",
        "argc = len(sys.argv)\n",
        "for idx in range(1, argc):\n",
        "    loadFile.append(sys.argv[idx])\n",
        "save_to_json_file(loadFile, \"add_item.json\")"
      ],
      "metadata": {
        "id": "xn_iEbthzndy"
      },
      "execution_count": null,
      "outputs": []
    },
    {
      "cell_type": "code",
      "source": [
        "\"\"\" user definned function. \"\"\"\n",
        "\n",
        "\n",
        "def class_to_json(obj):\n",
        "    \"\"\" Class to JSON \"\"\"\n",
        "    return obj.__dict__"
      ],
      "metadata": {
        "id": "Uv_IJmxF5Q8O"
      },
      "execution_count": null,
      "outputs": []
    },
    {
      "cell_type": "code",
      "source": [
        "\"\"\" user definned class. \"\"\"\n",
        "\n",
        "\n",
        "class Student:\n",
        "    \"\"\" Student to JSON \"\"\"\n",
        "    def __init__(self, first_name, last_name, age):\n",
        "        self.first_name = first_name\n",
        "        self.last_name = last_name\n",
        "        self.age = age\n",
        "\n",
        "    def to_json(self):\n",
        "        \"\"\" Student to JSON \"\"\"\n",
        "        return self.__dict__"
      ],
      "metadata": {
        "id": "YzScikqq6_3G"
      },
      "execution_count": 10,
      "outputs": []
    },
    {
      "cell_type": "code",
      "source": [
        "students = [Student(\"John\", \"Doe\", 23), Student(\"Bob\", \"Dylan\", 27)]\n",
        "\n",
        "for student in students:\n",
        "    j_student = student.to_json()\n",
        "    print(type(j_student))\n",
        "    print(j_student['first_name'])\n",
        "    print(type(j_student['first_name']))\n",
        "    print(j_student['age'])\n",
        "    print(type(j_student['age']))"
      ],
      "metadata": {
        "colab": {
          "base_uri": "https://localhost:8080/"
        },
        "id": "JRn2T3bI7_wn",
        "outputId": "4c4f6a78-0a58-4254-8c58-4c83e142f54d"
      },
      "execution_count": 11,
      "outputs": [
        {
          "output_type": "stream",
          "name": "stdout",
          "text": [
            "<class 'dict'>\n",
            "John\n",
            "<class 'str'>\n",
            "23\n",
            "<class 'int'>\n",
            "<class 'dict'>\n",
            "Bob\n",
            "<class 'str'>\n",
            "27\n",
            "<class 'int'>\n"
          ]
        }
      ]
    },
    {
      "cell_type": "code",
      "source": [
        "\"\"\" user definned class. \"\"\"\n",
        "\n",
        "\n",
        "class Student:\n",
        "    \"\"\" Student to JSON \"\"\"\n",
        "    def __init__(self, first_name, last_name, age):\n",
        "        self.first_name = first_name\n",
        "        self.last_name = last_name\n",
        "        self.age = age\n",
        "\n",
        "    def to_json(self, attrs=None):\n",
        "        \"\"\" Student to JSON \"\"\"\n",
        "        if attrs is None or type(attrs) != list:\n",
        "            return self.__dict__\n",
        "        else:\n",
        "            temp = {}\n",
        "            for place in attrs:\n",
        "                if type(place) != str:\n",
        "                    return self.__dict__\n",
        "                if place in self.__dict__.keys():\n",
        "                    temp[place] = self.__dict__[place]\n",
        "            return temp    "
      ],
      "metadata": {
        "id": "MwBx-w-Y9AHv"
      },
      "execution_count": 17,
      "outputs": []
    },
    {
      "cell_type": "code",
      "source": [
        "student_1 = Student(\"John\", \"Doe\", 23)\n",
        "student_2 = Student(\"Bob\", \"Dylan\", 27)\n",
        "\n",
        "j_student_1 = student_1.to_json()\n",
        "j_student_2 = student_2.to_json(['first_name', 'age'])\n",
        "j_student_3 = student_2.to_json(['middle_name', 'age'])\n",
        "\n",
        "print(j_student_1)\n",
        "print(j_student_2)\n",
        "print(j_student_3)"
      ],
      "metadata": {
        "colab": {
          "base_uri": "https://localhost:8080/"
        },
        "id": "_vldmS_w94uN",
        "outputId": "53bd68f1-9c8f-4e02-b596-e5e0a5fd2892"
      },
      "execution_count": 18,
      "outputs": [
        {
          "output_type": "stream",
          "name": "stdout",
          "text": [
            "{'first_name': 'John', 'last_name': 'Doe', 'age': 23}\n",
            "{'first_name': 'Bob', 'age': 27}\n",
            "{'age': 27}\n"
          ]
        }
      ]
    },
    {
      "cell_type": "code",
      "source": [
        "\"\"\" user definned class. \"\"\"\n",
        "\n",
        "\n",
        "class Student:\n",
        "    \"\"\" Student to disk and reload \"\"\"\n",
        "    def __init__(self, first_name, last_name, age):\n",
        "        self.first_name = first_name\n",
        "        self.last_name = last_name\n",
        "        self.age = age\n",
        "\n",
        "    def to_json(self, attrs=None):\n",
        "        \"\"\" Student to disk and reload \"\"\"\n",
        "        if attrs is None or type(attrs) != list:\n",
        "            return self.__dict__\n",
        "        else:\n",
        "            temp = {}\n",
        "            for place in attrs:\n",
        "                if type(place) != str:\n",
        "                    return self.__dict__\n",
        "                if place in self.__dict__.keys():\n",
        "                    temp[place] = self.__dict__[place]\n",
        "            return temp\n",
        "\n",
        "    def reload_from_json(self, json):\n",
        "        \"\"\" Student to disk and reload \"\"\"\n",
        "        for items in json.keys():\n",
        "            self.__dict__[items] = json[items]"
      ],
      "metadata": {
        "id": "9TC3h-wu_VrD"
      },
      "execution_count": 21,
      "outputs": []
    },
    {
      "cell_type": "code",
      "source": [
        "import os\n",
        "import sys\n",
        "path = sys.argv[1]\n",
        "\n",
        "if os.path.exists(path):\n",
        "    os.remove(path)\n",
        "\n",
        "student_1 = Student(\"John\", \"Doe\", 23)\n",
        "j_student_1 = student_1.to_json()\n",
        "print(\"Initial student:\")\n",
        "print(student_1)\n",
        "print(type(student_1))\n",
        "print(type(j_student_1))\n",
        "print(\"{} {} {}\".format(student_1.first_name, student_1.last_name, student_1.age))\n",
        "save_to_json_file(j_student_1, path)\n",
        "read_file(path)\n",
        "print(\"\\nSaved to disk\")\n",
        "\n",
        "\n",
        "print(\"Fake student:\")\n",
        "new_student_1 = Student(\"Fake\", \"Fake\", 89)\n",
        "print(new_student_1)\n",
        "print(type(new_student_1))\n",
        "print(\"{} {} {}\".format(new_student_1.first_name, new_student_1.last_name, new_student_1.age))\n",
        "\n",
        "\n",
        "print(\"Load dictionary from file:\")\n",
        "new_j_student_1 = load_from_json_file(path)\n",
        "\n",
        "new_student_1.reload_from_json(j_student_1)\n",
        "print(new_student_1)\n",
        "print(type(new_student_1))\n",
        "print(\"{} {} {}\".format(new_student_1.first_name, new_student_1.last_name, new_student_1.age))"
      ],
      "metadata": {
        "colab": {
          "base_uri": "https://localhost:8080/",
          "height": 321
        },
        "id": "iDg7kALCEo4w",
        "outputId": "33fa4861-6410-4f1d-b36a-892738d2ad1a"
      },
      "execution_count": 23,
      "outputs": [
        {
          "output_type": "stream",
          "name": "stdout",
          "text": [
            "Initial student:\n",
            "<__main__.Student object at 0x7f6d68e682b0>\n",
            "<class '__main__.Student'>\n",
            "<class 'dict'>\n",
            "John Doe 23\n"
          ]
        },
        {
          "output_type": "error",
          "ename": "NameError",
          "evalue": "ignored",
          "traceback": [
            "\u001b[0;31m---------------------------------------------------------------------------\u001b[0m",
            "\u001b[0;31mNameError\u001b[0m                                 Traceback (most recent call last)",
            "\u001b[0;32m<ipython-input-23-84d6ee8899ba>\u001b[0m in \u001b[0;36m<module>\u001b[0;34m\u001b[0m\n\u001b[1;32m     13\u001b[0m \u001b[0mprint\u001b[0m\u001b[0;34m(\u001b[0m\u001b[0mtype\u001b[0m\u001b[0;34m(\u001b[0m\u001b[0mj_student_1\u001b[0m\u001b[0;34m)\u001b[0m\u001b[0;34m)\u001b[0m\u001b[0;34m\u001b[0m\u001b[0;34m\u001b[0m\u001b[0m\n\u001b[1;32m     14\u001b[0m \u001b[0mprint\u001b[0m\u001b[0;34m(\u001b[0m\u001b[0;34m\"{} {} {}\"\u001b[0m\u001b[0;34m.\u001b[0m\u001b[0mformat\u001b[0m\u001b[0;34m(\u001b[0m\u001b[0mstudent_1\u001b[0m\u001b[0;34m.\u001b[0m\u001b[0mfirst_name\u001b[0m\u001b[0;34m,\u001b[0m \u001b[0mstudent_1\u001b[0m\u001b[0;34m.\u001b[0m\u001b[0mlast_name\u001b[0m\u001b[0;34m,\u001b[0m \u001b[0mstudent_1\u001b[0m\u001b[0;34m.\u001b[0m\u001b[0mage\u001b[0m\u001b[0;34m)\u001b[0m\u001b[0;34m)\u001b[0m\u001b[0;34m\u001b[0m\u001b[0;34m\u001b[0m\u001b[0m\n\u001b[0;32m---> 15\u001b[0;31m \u001b[0msave_to_json_file\u001b[0m\u001b[0;34m(\u001b[0m\u001b[0mj_student_1\u001b[0m\u001b[0;34m,\u001b[0m \u001b[0mpath\u001b[0m\u001b[0;34m)\u001b[0m\u001b[0;34m\u001b[0m\u001b[0;34m\u001b[0m\u001b[0m\n\u001b[0m\u001b[1;32m     16\u001b[0m \u001b[0mread_file\u001b[0m\u001b[0;34m(\u001b[0m\u001b[0mpath\u001b[0m\u001b[0;34m)\u001b[0m\u001b[0;34m\u001b[0m\u001b[0;34m\u001b[0m\u001b[0m\n\u001b[1;32m     17\u001b[0m \u001b[0mprint\u001b[0m\u001b[0;34m(\u001b[0m\u001b[0;34m\"\\nSaved to disk\"\u001b[0m\u001b[0;34m)\u001b[0m\u001b[0;34m\u001b[0m\u001b[0;34m\u001b[0m\u001b[0m\n",
            "\u001b[0;31mNameError\u001b[0m: name 'save_to_json_file' is not defined"
          ]
        }
      ]
    },
    {
      "cell_type": "code",
      "source": [
        "\"\"\" user defined function. \"\"\"\n",
        "\n",
        "\n",
        "def append_after(filename=\"\", search_string=\"\", new_string=\"\"):\n",
        "    \"\"\" Search and update. \"\"\"\n",
        "    with open(filename, mode=\"r+\", encoding=\"utf-8\") as readFile:\n",
        "        temp = readFile.readlines()\n",
        "    count = 0\n",
        "    with open(filename, mode=\"w\", encoding=\"utf-8\") as writeFile:\n",
        "        for lines in temp:\n",
        "            count += 1\n",
        "            if search_string in lines:\n",
        "                temp.insert(count, new_string)\n",
        "        for lines in temp:\n",
        "            writeFile.write(lines)"
      ],
      "metadata": {
        "id": "GuMJ8pH5CdsY"
      },
      "execution_count": null,
      "outputs": []
    }
  ]
}