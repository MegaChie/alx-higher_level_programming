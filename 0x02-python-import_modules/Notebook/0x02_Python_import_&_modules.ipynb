{
  "nbformat": 4,
  "nbformat_minor": 0,
  "metadata": {
    "colab": {
      "provenance": []
    },
    "kernelspec": {
      "name": "python3",
      "display_name": "Python 3"
    },
    "language_info": {
      "name": "python"
    }
  },
  "cells": [
    {
      "cell_type": "code",
      "execution_count": null,
      "metadata": {
        "id": "ZaauP8hXxU6a"
      },
      "outputs": [],
      "source": [
        "if __name__ == \"__main__\":\n",
        "    from add_0 import add\n",
        "    a = 1\n",
        "    b = 2\n",
        "    print(\"{} + {} = {}\".format(a, b, add(a, b)))"
      ]
    },
    {
      "cell_type": "code",
      "source": [
        "if __name__ == \"__main__\":\n",
        "    from calculator_1 import add, sub, mul, div\n",
        "    a = 10\n",
        "    b = 5\n",
        "    print(\"{} + {} = {}\".format(a, b, add(a, b)))\n",
        "    print(\"{} - {} = {}\".format(a, b, sub(a, b)))\n",
        "    print(\"{} * {} = {}\".format(a, b, mul(a, b)))\n",
        "    print(\"{} / {} = {}\".format(a, b, div(a, b)))"
      ],
      "metadata": {
        "id": "FZxWjXh109Bx"
      },
      "execution_count": null,
      "outputs": []
    },
    {
      "cell_type": "code",
      "source": [
        "if __name__ == \"__main__\":\n",
        "    import sys\n",
        "    argumentVector = sys.argv[1:]\n",
        "    argumentCount = len(argumentVector)\n",
        "    count = 1\n",
        "    if argumentCount == 0:\n",
        "        print(\"{} arguments.\".format(argumentCount))\n",
        "    elif argumentCount == 1:\n",
        "        print(\"{} argument:\".format(argumentCount))\n",
        "        print(\"{}: {}\".format(count, sys.argv[1]))\n",
        "    elif argumentCount > 1:\n",
        "        print(\"{} arguments:\".format(argumentCount))\n",
        "        while count <= argumentCount:\n",
        "            print(\"{}: {}\".format(count, sys.argv[count]))\n",
        "            count = count + 1"
      ],
      "metadata": {
        "colab": {
          "base_uri": "https://localhost:8080/"
        },
        "id": "8B27fVfNpwOo",
        "outputId": "bb8d4a4a-b6e3-48d7-eacc-cb4ac89aa934"
      },
      "execution_count": null,
      "outputs": [
        {
          "output_type": "stream",
          "name": "stdout",
          "text": [
            "2 arguments:\n",
            "1: -f\n",
            "2: /root/.local/share/jupyter/runtime/kernel-41b054fe-2962-4eff-b3c0-ea3f9aaffe22.json\n"
          ]
        }
      ]
    },
    {
      "cell_type": "code",
      "source": [
        "if __name__ == \"__main__\":\n",
        "    import sys\n",
        "    argumentVector = sys.argv[1:]\n",
        "    argumentCount = len(argumentVector)\n",
        "    count = 1\n",
        "    result = 0\n",
        "    while count <= argumentCount:\n",
        "        result += int(sys.argv[count])\n",
        "        count += 1\n",
        "    print(\"{}\".format(result))"
      ],
      "metadata": {
        "id": "XXnm55QP0ApY"
      },
      "execution_count": null,
      "outputs": []
    },
    {
      "cell_type": "code",
      "source": [
        "# downloading the file\n",
        "!wget https://github.com/holbertonschool/0x02.py/raw/master/hidden_4.pyc"
      ],
      "metadata": {
        "colab": {
          "base_uri": "https://localhost:8080/"
        },
        "id": "QV-xaaJU0bpa",
        "outputId": "57b68aad-e214-4bff-db95-858fd7f7e603"
      },
      "execution_count": 2,
      "outputs": [
        {
          "output_type": "stream",
          "name": "stdout",
          "text": [
            "--2023-01-05 15:55:06--  https://github.com/holbertonschool/0x02.py/raw/master/hidden_4.pyc\n",
            "Resolving github.com (github.com)... 140.82.113.4\n",
            "Connecting to github.com (github.com)|140.82.113.4|:443... connected.\n",
            "HTTP request sent, awaiting response... 302 Found\n",
            "Location: https://raw.githubusercontent.com/holbertonschool/0x02.py/master/hidden_4.pyc [following]\n",
            "--2023-01-05 15:55:06--  https://raw.githubusercontent.com/holbertonschool/0x02.py/master/hidden_4.pyc\n",
            "Resolving raw.githubusercontent.com (raw.githubusercontent.com)... 185.199.108.133, 185.199.109.133, 185.199.110.133, ...\n",
            "Connecting to raw.githubusercontent.com (raw.githubusercontent.com)|185.199.108.133|:443... connected.\n",
            "HTTP request sent, awaiting response... 200 OK\n",
            "Length: 531 [application/octet-stream]\n",
            "Saving to: ‘hidden_4.pyc’\n",
            "\n",
            "hidden_4.pyc        100%[===================>]     531  --.-KB/s    in 0s      \n",
            "\n",
            "2023-01-05 15:55:06 (16.1 MB/s) - ‘hidden_4.pyc’ saved [531/531]\n",
            "\n"
          ]
        }
      ]
    },
    {
      "cell_type": "code",
      "source": [
        "if __name__ == \"__main__\":\n",
        "    import sys\n",
        "    import hidden_4\n",
        "    for count in dir(hidden_4):\n",
        "        if count[:2] != \"__\":\n",
        "            print(count)\n"
      ],
      "metadata": {
        "id": "5tjgBWd81g0m",
        "colab": {
          "base_uri": "https://localhost:8080/"
        },
        "outputId": "d283740b-25ad-4c75-957f-ab5253db3ab7"
      },
      "execution_count": 53,
      "outputs": [
        {
          "output_type": "stream",
          "name": "stdout",
          "text": [
            "my_secret_santa\n",
            "print_hidden\n",
            "print_school\n"
          ]
        }
      ]
    },
    {
      "cell_type": "code",
      "source": [
        "if __name__ == \"__main__\":\n",
        "    from variable_load_5 import a\n",
        "    print(\"{:d}\".format(a))"
      ],
      "metadata": {
        "id": "8DAdg7qkTchM"
      },
      "execution_count": null,
      "outputs": []
    },
    {
      "cell_type": "code",
      "source": [
        "if __name__ == \"__main__\":\n",
        "    import sys\n",
        "    from calculator_1 import sub, add, div, mul\n",
        "    agumentVector = sys.argv[1:]\n",
        "    argumentCount = len(agumentVector)\n",
        "    operator = [\"+\", \"-\", \"*\", \"/\"]\n",
        "    if argumentCount != 3:\n",
        "        print(\"Usage: ./100-my_calculator.py <a> <operator> <b>\")\n",
        "        exit(1)\n",
        "    elif sys.argv[2] not in operator:\n",
        "        print(\"Unknown operator. Available operators: +, -, * and /\")\n",
        "        exit(1)\n",
        "    else:\n",
        "        a = int(sys.argv[1])\n",
        "        b = int(sys.argv[3])\n",
        "        if sys.argv[2] == \"+\":\n",
        "            print(\"{} {} {} = {}\".format(a, sys.argv[2], b, add(a, b)))\n",
        "        elif sys.argv[2] == \"*\":\n",
        "            print(\"{} {} {} = {}\".format(a, sys.argv[2], b, mul(a, b)))\n",
        "        elif sys.argv[2] == \"-\":\n",
        "            print(\"{} {} {} = {}\".format(a, sys.argv[2], b, sub(a, b)))\n",
        "        elif sys.argv[2] == \"/\":\n",
        "            print(\"{} {} {} = {}\".format(a, sys.argv[2], b, div(a, b)))"
      ],
      "metadata": {
        "id": "4l5HNzBpxQua"
      },
      "execution_count": 23,
      "outputs": []
    },
    {
      "cell_type": "code",
      "source": [
        "#!/usr/bin/python3\n",
        "def magic_calculation(a, b):\n",
        "    from magic_calculation_102 import add, sub\n",
        "    if a < b:\n",
        "        c = add(a, b)\n",
        "        for i in range(4, 6):\n",
        "            c = add(c, i)\n",
        "        return (c)\n",
        "    else:\n",
        "        return (sub(a, b))"
      ],
      "metadata": {
        "id": "aGVCdB7UX4p4"
      },
      "execution_count": 54,
      "outputs": []
    },
    {
      "cell_type": "code",
      "source": [
        "import string\n",
        "print(string.ascii_uppercase)"
      ],
      "metadata": {
        "colab": {
          "base_uri": "https://localhost:8080/"
        },
        "id": "X3y5Vh5YHK8M",
        "outputId": "f97ceb23-cc92-4ece-e606-f59235cf6936"
      },
      "execution_count": 25,
      "outputs": [
        {
          "output_type": "stream",
          "name": "stdout",
          "text": [
            "ABCDEFGHIJKLMNOPQRSTUVWXYZ\n"
          ]
        }
      ]
    }
  ]
}