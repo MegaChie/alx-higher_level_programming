{
  "nbformat": 4,
  "nbformat_minor": 0,
  "metadata": {
    "colab": {
      "provenance": [],
      "authorship_tag": "ABX9TyOZ7zqmkLhvbYQwv6CMWDRg",
      "include_colab_link": true
    },
    "kernelspec": {
      "name": "python3",
      "display_name": "Python 3"
    },
    "language_info": {
      "name": "python"
    }
  },
  "cells": [
    {
      "cell_type": "markdown",
      "metadata": {
        "id": "view-in-github",
        "colab_type": "text"
      },
      "source": [
        "<a href=\"https://colab.research.google.com/github/MegaChie/alx-higher_level_programming/blob/main/0x09-python-everything_is_object/Notebook/0x09_Python_Everything_is_object.ipynb\" target=\"_parent\"><img src=\"https://colab.research.google.com/assets/colab-badge.svg\" alt=\"Open In Colab\"/></a>"
      ]
    },
    {
      "cell_type": "code",
      "execution_count": null,
      "metadata": {
        "colab": {
          "base_uri": "https://localhost:8080/"
        },
        "id": "DXO-S0BZWF6W",
        "outputId": "8dbb504c-8e3b-45b1-b786-53d64e12d076"
      },
      "outputs": [
        {
          "output_type": "execute_result",
          "data": {
            "text/plain": [
              "False"
            ]
          },
          "metadata": {},
          "execution_count": 5
        }
      ],
      "source": [
        "a = 89\n",
        "b = 100\n",
        "a is b"
      ]
    },
    {
      "cell_type": "code",
      "source": [
        "a = 89\n",
        "b = 89\n",
        "a is b"
      ],
      "metadata": {
        "colab": {
          "base_uri": "https://localhost:8080/"
        },
        "id": "nlxZNDReXLx4",
        "outputId": "3cdd8dc1-b66c-4ce9-a27b-fa9e89948753"
      },
      "execution_count": null,
      "outputs": [
        {
          "output_type": "execute_result",
          "data": {
            "text/plain": [
              "True"
            ]
          },
          "metadata": {},
          "execution_count": 6
        }
      ]
    },
    {
      "cell_type": "code",
      "source": [
        "a = 89\n",
        "b = a\n",
        "a is b"
      ],
      "metadata": {
        "colab": {
          "base_uri": "https://localhost:8080/"
        },
        "id": "8WXzHLyFZTUw",
        "outputId": "93a3c7fc-563d-4116-e2c5-054f6fe77134"
      },
      "execution_count": null,
      "outputs": [
        {
          "output_type": "execute_result",
          "data": {
            "text/plain": [
              "True"
            ]
          },
          "metadata": {},
          "execution_count": 7
        }
      ]
    },
    {
      "cell_type": "code",
      "source": [
        "a = 89\n",
        "b = a + 1\n",
        "a is b"
      ],
      "metadata": {
        "colab": {
          "base_uri": "https://localhost:8080/"
        },
        "id": "o70Ob9JQZqQP",
        "outputId": "6b010b32-763a-4392-cad4-33a18242248b"
      },
      "execution_count": null,
      "outputs": [
        {
          "output_type": "execute_result",
          "data": {
            "text/plain": [
              "False"
            ]
          },
          "metadata": {},
          "execution_count": 8
        }
      ]
    },
    {
      "cell_type": "code",
      "source": [
        "s1 = \"Best School\"\n",
        "s2 = s1\n",
        "print(s1 == s2)"
      ],
      "metadata": {
        "colab": {
          "base_uri": "https://localhost:8080/"
        },
        "id": "mlwoPaMJaFuY",
        "outputId": "665bdb17-33fb-47d7-92f9-d087e7cbd13f"
      },
      "execution_count": null,
      "outputs": [
        {
          "output_type": "stream",
          "name": "stdout",
          "text": [
            "True\n"
          ]
        }
      ]
    },
    {
      "cell_type": "code",
      "source": [
        "s1 = \"Best\"\n",
        "s2 = s1\n",
        "print(s1 is s2)"
      ],
      "metadata": {
        "colab": {
          "base_uri": "https://localhost:8080/"
        },
        "id": "5oAGDEaQahZZ",
        "outputId": "75df3e31-0f94-405a-bbb6-2002fdc0a3a8"
      },
      "execution_count": null,
      "outputs": [
        {
          "output_type": "stream",
          "name": "stdout",
          "text": [
            "True\n"
          ]
        }
      ]
    },
    {
      "cell_type": "code",
      "source": [
        "s1 = \"Best School\"\n",
        "s2 = \"Best School\"\n",
        "print(s1 == s2)"
      ],
      "metadata": {
        "colab": {
          "base_uri": "https://localhost:8080/"
        },
        "id": "x0AAHddAa1OP",
        "outputId": "b7aee136-d156-4fe0-c0e2-91b45c7ff8d9"
      },
      "execution_count": null,
      "outputs": [
        {
          "output_type": "stream",
          "name": "stdout",
          "text": [
            "True\n"
          ]
        }
      ]
    },
    {
      "cell_type": "code",
      "source": [
        "s1 = \"Best School\"\n",
        "s2 = \"Best School\"\n",
        "print(s1 is s2)\n",
        "\"\"\" the given result here is quite the opposite form the one the ALX's ckecker\n",
        "     consider to be right. \"\"\""
      ],
      "metadata": {
        "colab": {
          "base_uri": "https://localhost:8080/",
          "height": 53
        },
        "id": "F19xlWsGbIQy",
        "outputId": "58c91a73-812c-48ed-e3a7-7468ddfae328"
      },
      "execution_count": null,
      "outputs": [
        {
          "output_type": "stream",
          "name": "stdout",
          "text": [
            "False\n"
          ]
        },
        {
          "output_type": "execute_result",
          "data": {
            "text/plain": [
              "\" the given result here is quite the opposite form the one the ALX's ckecker\\n     consider to be right. \""
            ],
            "application/vnd.google.colaboratory.intrinsic+json": {
              "type": "string"
            }
          },
          "metadata": {},
          "execution_count": 12
        }
      ]
    },
    {
      "cell_type": "code",
      "source": [
        "l1 = [1, 2, 3]\n",
        "l2 = [1, 2, 3] \n",
        "print(l1 == l2)"
      ],
      "metadata": {
        "colab": {
          "base_uri": "https://localhost:8080/"
        },
        "id": "cW9iEtv5bxw_",
        "outputId": "7754f41b-cc96-40f8-aa91-ea2994a7af08"
      },
      "execution_count": null,
      "outputs": [
        {
          "output_type": "stream",
          "name": "stdout",
          "text": [
            "True\n"
          ]
        }
      ]
    },
    {
      "cell_type": "code",
      "source": [
        "l1 = [1, 2, 3]\n",
        "l2 = [1, 2, 3] \n",
        "print(l1 is l2)"
      ],
      "metadata": {
        "colab": {
          "base_uri": "https://localhost:8080/"
        },
        "id": "jS1q8bwld2jk",
        "outputId": "fb49278c-638a-4c9c-de3f-93dc0e7c980a"
      },
      "execution_count": null,
      "outputs": [
        {
          "output_type": "stream",
          "name": "stdout",
          "text": [
            "False\n"
          ]
        }
      ]
    },
    {
      "cell_type": "code",
      "source": [
        "l1 = [1, 2, 3]\n",
        "l2 = l1\n",
        "print(l1 == l2)"
      ],
      "metadata": {
        "colab": {
          "base_uri": "https://localhost:8080/"
        },
        "id": "hVJuApnEnbYJ",
        "outputId": "5f8b99f0-936d-4626-c573-36100a8904b6"
      },
      "execution_count": null,
      "outputs": [
        {
          "output_type": "stream",
          "name": "stdout",
          "text": [
            "True\n"
          ]
        }
      ]
    },
    {
      "cell_type": "code",
      "source": [
        "l1 = [1, 2, 3]\n",
        "l2 = l1\n",
        "print(l1 is l2)"
      ],
      "metadata": {
        "colab": {
          "base_uri": "https://localhost:8080/"
        },
        "id": "6n5EvFl7nsnF",
        "outputId": "4d23a02b-e1f8-4f47-d764-842f85a8a0fc"
      },
      "execution_count": null,
      "outputs": [
        {
          "output_type": "stream",
          "name": "stdout",
          "text": [
            "True\n"
          ]
        }
      ]
    },
    {
      "cell_type": "code",
      "source": [
        "l1 = [1, 2, 3]\n",
        "l2 = l1\n",
        "l1.append(4)\n",
        "print(l2)"
      ],
      "metadata": {
        "colab": {
          "base_uri": "https://localhost:8080/"
        },
        "id": "k4N5CtzWn9JQ",
        "outputId": "b86a4537-8074-4197-db47-62763b60cf14"
      },
      "execution_count": null,
      "outputs": [
        {
          "output_type": "stream",
          "name": "stdout",
          "text": [
            "[1, 2, 3, 4]\n"
          ]
        }
      ]
    },
    {
      "cell_type": "code",
      "source": [
        "l1 = [1, 2, 3]\n",
        "l2 = l1\n",
        "l1 = l1 + [4]\n",
        "print(l2)"
      ],
      "metadata": {
        "colab": {
          "base_uri": "https://localhost:8080/"
        },
        "id": "Sf-fzDdloNu2",
        "outputId": "08317d55-5199-41ef-f3fb-5210cbc46a21"
      },
      "execution_count": null,
      "outputs": [
        {
          "output_type": "stream",
          "name": "stdout",
          "text": [
            "[1, 2, 3]\n"
          ]
        }
      ]
    },
    {
      "cell_type": "code",
      "source": [
        "def increment(n):\n",
        "    n += 1\n",
        "\n",
        "a = 1\n",
        "increment(a)\n",
        "print(a)"
      ],
      "metadata": {
        "colab": {
          "base_uri": "https://localhost:8080/"
        },
        "id": "uDbhm9hNoj5o",
        "outputId": "ece750c3-7e82-4e78-94a9-3763b9f5a9dd"
      },
      "execution_count": null,
      "outputs": [
        {
          "output_type": "stream",
          "name": "stdout",
          "text": [
            "1\n"
          ]
        }
      ]
    },
    {
      "cell_type": "code",
      "source": [
        "def increment(n):\n",
        "    n.append(4)\n",
        "\n",
        "l = [1, 2, 3]\n",
        "increment(l)\n",
        "print(l)"
      ],
      "metadata": {
        "colab": {
          "base_uri": "https://localhost:8080/"
        },
        "id": "_9Bp70OKo1wh",
        "outputId": "8fe5c011-bb7c-4503-e386-4e40eb989c27"
      },
      "execution_count": null,
      "outputs": [
        {
          "output_type": "stream",
          "name": "stdout",
          "text": [
            "[1, 2, 3, 4]\n"
          ]
        }
      ]
    },
    {
      "cell_type": "code",
      "source": [
        "def assign_value(n, v):\n",
        "    n = v\n",
        "\n",
        "l1 = [1, 2, 3]\n",
        "l2 = [4, 5, 6]\n",
        "assign_value(l1, l2)\n",
        "print(l1)"
      ],
      "metadata": {
        "colab": {
          "base_uri": "https://localhost:8080/"
        },
        "id": "pjxyG41pqgCH",
        "outputId": "16b15bbe-65a1-49b6-fc20-c9b2813efaee"
      },
      "execution_count": null,
      "outputs": [
        {
          "output_type": "stream",
          "name": "stdout",
          "text": [
            "[1, 2, 3]\n"
          ]
        }
      ]
    },
    {
      "cell_type": "code",
      "source": [
        "def copy_list(n):\n",
        "    return list(n)"
      ],
      "metadata": {
        "id": "eWqQ2dzErE0m"
      },
      "execution_count": null,
      "outputs": []
    },
    {
      "cell_type": "code",
      "source": [
        "my_list = [1, 2, 3]\n",
        "print(my_list)\n",
        "\n",
        "new_list = copy_list(my_list)\n",
        "\n",
        "print(my_list)\n",
        "print(new_list)\n",
        "\n",
        "print(new_list == my_list)\n",
        "print(new_list is my_list)"
      ],
      "metadata": {
        "colab": {
          "base_uri": "https://localhost:8080/"
        },
        "id": "gwBGM49Tr8Xn",
        "outputId": "8c2896ef-9f62-4a85-82ed-7720c01c5be2"
      },
      "execution_count": null,
      "outputs": [
        {
          "output_type": "stream",
          "name": "stdout",
          "text": [
            "[1, 2, 3]\n",
            "[1, 2, 3]\n",
            "[1, 2, 3]\n",
            "True\n",
            "False\n"
          ]
        }
      ]
    },
    {
      "cell_type": "code",
      "source": [
        "a = ()\n",
        "type(a)"
      ],
      "metadata": {
        "colab": {
          "base_uri": "https://localhost:8080/"
        },
        "id": "UJZ39uNu2KFf",
        "outputId": "c5fe4e13-7777-459d-8c52-fa031d22fd44"
      },
      "execution_count": null,
      "outputs": [
        {
          "output_type": "execute_result",
          "data": {
            "text/plain": [
              "tuple"
            ]
          },
          "metadata": {},
          "execution_count": 32
        }
      ]
    },
    {
      "cell_type": "code",
      "source": [
        "a = (1, 2)\n",
        "type(a)"
      ],
      "metadata": {
        "colab": {
          "base_uri": "https://localhost:8080/"
        },
        "id": "z68eysW62cN0",
        "outputId": "bbdc156f-3244-4e2c-972f-d27e8340233c"
      },
      "execution_count": null,
      "outputs": [
        {
          "output_type": "execute_result",
          "data": {
            "text/plain": [
              "tuple"
            ]
          },
          "metadata": {},
          "execution_count": 33
        }
      ]
    },
    {
      "cell_type": "code",
      "source": [
        "a = (1)\n",
        "type(a)"
      ],
      "metadata": {
        "colab": {
          "base_uri": "https://localhost:8080/"
        },
        "id": "GMMpZmXg2oI3",
        "outputId": "27d69ff2-e855-4c3c-a28d-f29cb4942921"
      },
      "execution_count": null,
      "outputs": [
        {
          "output_type": "execute_result",
          "data": {
            "text/plain": [
              "int"
            ]
          },
          "metadata": {},
          "execution_count": 34
        }
      ]
    },
    {
      "cell_type": "code",
      "source": [
        "a = (1, )\n",
        "type(a)"
      ],
      "metadata": {
        "colab": {
          "base_uri": "https://localhost:8080/"
        },
        "id": "ZDd04rmD20M4",
        "outputId": "1f9213ec-2a01-4aed-d6b2-c38125f8328e"
      },
      "execution_count": null,
      "outputs": [
        {
          "output_type": "execute_result",
          "data": {
            "text/plain": [
              "tuple"
            ]
          },
          "metadata": {},
          "execution_count": 35
        }
      ]
    },
    {
      "cell_type": "code",
      "source": [
        "a = (1)\n",
        "b = (1)\n",
        "a is b"
      ],
      "metadata": {
        "colab": {
          "base_uri": "https://localhost:8080/"
        },
        "id": "yIwqY-on3IpM",
        "outputId": "93588b79-0815-4924-e7ec-5408a47da272"
      },
      "execution_count": null,
      "outputs": [
        {
          "output_type": "execute_result",
          "data": {
            "text/plain": [
              "True"
            ]
          },
          "metadata": {},
          "execution_count": 36
        }
      ]
    },
    {
      "cell_type": "code",
      "source": [
        "a = (1, 2)\n",
        "b = (1, 2)\n",
        "a is b"
      ],
      "metadata": {
        "colab": {
          "base_uri": "https://localhost:8080/"
        },
        "id": "xqv1jLR73VP5",
        "outputId": "8aa91a4f-6bc9-4a2e-8418-10c6f27c06d2"
      },
      "execution_count": null,
      "outputs": [
        {
          "output_type": "execute_result",
          "data": {
            "text/plain": [
              "False"
            ]
          },
          "metadata": {},
          "execution_count": 37
        }
      ]
    },
    {
      "cell_type": "code",
      "source": [
        "a = ()\n",
        "b = ()\n",
        "a is b"
      ],
      "metadata": {
        "colab": {
          "base_uri": "https://localhost:8080/"
        },
        "id": "0jB3iW4G5xnQ",
        "outputId": "4eeffd91-170a-4175-8ab9-86383059f6b3"
      },
      "execution_count": null,
      "outputs": [
        {
          "output_type": "execute_result",
          "data": {
            "text/plain": [
              "True"
            ]
          },
          "metadata": {},
          "execution_count": 38
        }
      ]
    },
    {
      "cell_type": "code",
      "source": [
        "print(id(a))\n",
        "a\n",
        "[1, 2, 3, 4]\n",
        "a = a + [5]\n",
        "id(a)"
      ],
      "metadata": {
        "colab": {
          "base_uri": "https://localhost:8080/"
        },
        "id": "p3NnETGA6mFy",
        "outputId": "610f0058-295d-4a6b-c915-d3c8f95b06f4"
      },
      "execution_count": null,
      "outputs": [
        {
          "output_type": "stream",
          "name": "stdout",
          "text": [
            "140228113488576\n"
          ]
        },
        {
          "output_type": "execute_result",
          "data": {
            "text/plain": [
              "140228113487616"
            ]
          },
          "metadata": {},
          "execution_count": 46
        }
      ]
    },
    {
      "cell_type": "code",
      "source": [
        "a\n",
        "print(id (a))\n",
        "\n",
        "a += [4]\n",
        "id(a)"
      ],
      "metadata": {
        "colab": {
          "base_uri": "https://localhost:8080/"
        },
        "id": "8AeyHt2c8Iy3",
        "outputId": "537dc35a-110f-4476-ac7d-a1452bf7be9d"
      },
      "execution_count": null,
      "outputs": [
        {
          "output_type": "stream",
          "name": "stdout",
          "text": [
            "140228113487616\n"
          ]
        },
        {
          "output_type": "execute_result",
          "data": {
            "text/plain": [
              "140228113487616"
            ]
          },
          "metadata": {},
          "execution_count": 49
        }
      ]
    },
    {
      "cell_type": "code",
      "source": [
        "def magic_string(n=[]):\n",
        "    n += [\"BestSchool\"]\n",
        "    return \", \".join(n)"
      ],
      "metadata": {
        "id": "CtTf3a9V8qD2"
      },
      "execution_count": null,
      "outputs": []
    },
    {
      "cell_type": "code",
      "source": [
        "for i in range(10):\n",
        "    print(magic_string())"
      ],
      "metadata": {
        "colab": {
          "base_uri": "https://localhost:8080/"
        },
        "id": "ftuSGOI89HA3",
        "outputId": "4f2d2a76-b862-4fee-8e1a-b110f92ac5b2"
      },
      "execution_count": null,
      "outputs": [
        {
          "output_type": "stream",
          "name": "stdout",
          "text": [
            "BestSchool\n",
            "BestSchool, BestSchool\n",
            "BestSchool, BestSchool, BestSchool\n",
            "BestSchool, BestSchool, BestSchool, BestSchool\n",
            "BestSchool, BestSchool, BestSchool, BestSchool, BestSchool\n",
            "BestSchool, BestSchool, BestSchool, BestSchool, BestSchool, BestSchool\n",
            "BestSchool, BestSchool, BestSchool, BestSchool, BestSchool, BestSchool, BestSchool\n",
            "BestSchool, BestSchool, BestSchool, BestSchool, BestSchool, BestSchool, BestSchool, BestSchool\n",
            "BestSchool, BestSchool, BestSchool, BestSchool, BestSchool, BestSchool, BestSchool, BestSchool, BestSchool\n",
            "BestSchool, BestSchool, BestSchool, BestSchool, BestSchool, BestSchool, BestSchool, BestSchool, BestSchool, BestSchool\n"
          ]
        }
      ]
    }
  ]
}