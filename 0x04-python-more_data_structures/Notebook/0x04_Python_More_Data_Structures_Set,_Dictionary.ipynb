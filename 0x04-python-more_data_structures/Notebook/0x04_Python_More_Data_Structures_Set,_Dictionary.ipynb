{
  "nbformat": 4,
  "nbformat_minor": 0,
  "metadata": {
    "colab": {
      "provenance": [],
      "authorship_tag": "ABX9TyP7Gwenohq6iYghYQKxQPDG",
      "include_colab_link": true
    },
    "kernelspec": {
      "name": "python3",
      "display_name": "Python 3"
    },
    "language_info": {
      "name": "python"
    }
  },
  "cells": [
    {
      "cell_type": "markdown",
      "metadata": {
        "id": "view-in-github",
        "colab_type": "text"
      },
      "source": [
        "<a href=\"https://colab.research.google.com/github/MegaChie/alx-higher_level_programming/blob/main/0x04-python-more_data_structures/Notebook/0x04_Python_More_Data_Structures_Set%2C_Dictionary.ipynb\" target=\"_parent\"><img src=\"https://colab.research.google.com/assets/colab-badge.svg\" alt=\"Open In Colab\"/></a>"
      ]
    },
    {
      "cell_type": "code",
      "execution_count": null,
      "metadata": {
        "id": "shuoZPhmcU94"
      },
      "outputs": [],
      "source": [
        "def square_matrix_simple(matrix=[]):\n",
        "    if len(matrix) == 0:\n",
        "        print()\n",
        "    return [[item**2 for item in row] for row in matrix]"
      ]
    },
    {
      "cell_type": "code",
      "source": [
        "matrix = [\n",
        "    [1, 2, 3],\n",
        "    [4, 5, 6],\n",
        "    [7, 8, 9]\n",
        "]\n",
        "square_matrix_simple(matrix)"
      ],
      "metadata": {
        "colab": {
          "base_uri": "https://localhost:8080/"
        },
        "id": "Y1EzdQJDfxqA",
        "outputId": "93ee8ca7-432c-4016-e52d-9b463a87b94b"
      },
      "execution_count": null,
      "outputs": [
        {
          "output_type": "execute_result",
          "data": {
            "text/plain": [
              "[[1, 4, 9], [16, 25, 36], [49, 64, 81]]"
            ]
          },
          "metadata": {},
          "execution_count": 33
        }
      ]
    },
    {
      "cell_type": "code",
      "source": [
        "def search_replace(my_list, search, replace):\n",
        "    return [find if find != search else replace for find in my_list]"
      ],
      "metadata": {
        "id": "kWYcqaOqegNQ"
      },
      "execution_count": null,
      "outputs": []
    },
    {
      "cell_type": "code",
      "source": [
        "my_list = [1, 2, 3, 4, 5, 4, 2, 1, 1, 4, 89]\n",
        "search_replace(my_list, 2, 89)\n",
        "my_list"
      ],
      "metadata": {
        "colab": {
          "base_uri": "https://localhost:8080/"
        },
        "id": "voF4ATJEelYN",
        "outputId": "2f20eecb-c72b-4a10-8cf6-107f28d2bfb7"
      },
      "execution_count": null,
      "outputs": [
        {
          "output_type": "execute_result",
          "data": {
            "text/plain": [
              "[1, 89, 3, 4, 5, 4, 89, 1, 1, 4, 89]"
            ]
          },
          "metadata": {},
          "execution_count": 9
        }
      ]
    },
    {
      "cell_type": "code",
      "source": [
        "def uniq_add(my_list=[]):\n",
        "    backup = list()\n",
        "    addup = 0\n",
        "    for place in my_list:\n",
        "        if place not in backup:\n",
        "            backup.append(place)\n",
        "        else:\n",
        "            continue\n",
        "    for holder in backup:\n",
        "        addup += holder\n",
        "    return addup        "
      ],
      "metadata": {
        "id": "d9Cx5SfggPw_"
      },
      "execution_count": null,
      "outputs": []
    },
    {
      "cell_type": "code",
      "source": [
        "alist = [1, 2, 3, 1, 4, 2, 5]\n",
        "uniq_add(alist)"
      ],
      "metadata": {
        "colab": {
          "base_uri": "https://localhost:8080/"
        },
        "id": "W4XVjKV4u11G",
        "outputId": "02caed6f-bea2-431e-d047-5ba33fcd54db"
      },
      "execution_count": null,
      "outputs": [
        {
          "output_type": "execute_result",
          "data": {
            "text/plain": [
              "25"
            ]
          },
          "metadata": {},
          "execution_count": 29
        }
      ]
    },
    {
      "cell_type": "code",
      "source": [
        "def common_elements(set_1, set_2):\n",
        "    copy = list()\n",
        "    for place in set_1:\n",
        "        if place in set_2:\n",
        "            copy.append(place)\n",
        "        else:\n",
        "            continue\n",
        "    return copy"
      ],
      "metadata": {
        "id": "oXZKdtqz3nV-"
      },
      "execution_count": 86,
      "outputs": []
    },
    {
      "cell_type": "code",
      "source": [
        "set_1 = { \"Python\", \"C\", \"Javascript\" }\n",
        "set_2 = { \"Bash\", \"C\", \"Javascript\", \"Perl\" }\n",
        "common_elements(set_2, set_1)"
      ],
      "metadata": {
        "colab": {
          "base_uri": "https://localhost:8080/"
        },
        "id": "G-y3lfVv3-3k",
        "outputId": "7da2d507-3889-406e-e77e-b35bd3a12e7f"
      },
      "execution_count": 87,
      "outputs": [
        {
          "output_type": "execute_result",
          "data": {
            "text/plain": [
              "['Javascript', 'C']"
            ]
          },
          "metadata": {},
          "execution_count": 87
        }
      ]
    },
    {
      "cell_type": "code",
      "source": [
        "def only_diff_elements(set_1, set_2):\n",
        "    merger = list()\n",
        "    differ = list()\n",
        "    for place in set_1:\n",
        "        merger.append(place)\n",
        "    for place in set_2:\n",
        "        merger.append(place)\n",
        "    for place in merger:\n",
        "        if place in set_1 and place in set_2:\n",
        "            continue\n",
        "        else:\n",
        "            differ.append(place)\n",
        "    return differ"
      ],
      "metadata": {
        "id": "GRwghd_c5XzO"
      },
      "execution_count": 76,
      "outputs": []
    },
    {
      "cell_type": "code",
      "source": [
        "set_1 = { \"Python\", \"C\", \"Javascript\" }\n",
        "set_2 = { \"Bash\", \"C\", \"Ruby\", \"Perl\" }\n",
        "only_diff_elements(set_1, set_2)"
      ],
      "metadata": {
        "colab": {
          "base_uri": "https://localhost:8080/"
        },
        "id": "pYhMou-Y5yrt",
        "outputId": "7ac402c2-937c-40c3-f8d3-4227dfc17e4b"
      },
      "execution_count": 77,
      "outputs": [
        {
          "output_type": "execute_result",
          "data": {
            "text/plain": [
              "['Javascript', 'Python', 'Bash', 'Perl', 'Ruby']"
            ]
          },
          "metadata": {},
          "execution_count": 77
        }
      ]
    },
    {
      "cell_type": "code",
      "source": [
        "def number_keys(a_dictionary):\n",
        "    print(len(a_dictionary))"
      ],
      "metadata": {
        "id": "rExftSdcFRE3"
      },
      "execution_count": 90,
      "outputs": []
    },
    {
      "cell_type": "code",
      "source": [
        "a_dictionary = { 'language': \"C\", 'number': 13, 'track': \"Low level\" }\n",
        "number_keys(a_dictionary)"
      ],
      "metadata": {
        "colab": {
          "base_uri": "https://localhost:8080/"
        },
        "id": "BQILL91GFabf",
        "outputId": "d2124a9a-fc64-4119-b072-c2c9bf266008"
      },
      "execution_count": 91,
      "outputs": [
        {
          "output_type": "stream",
          "name": "stdout",
          "text": [
            "3\n"
          ]
        }
      ]
    },
    {
      "cell_type": "code",
      "source": [
        "def print_sorted_dictionary(a_dictionary):\n",
        "    for key, value in sorted(a_dictionary.items(), key=lambda x: x[0]): \n",
        "        print(\"{} : {}\".format(key, value))"
      ],
      "metadata": {
        "id": "TpzzUGGnHPdN"
      },
      "execution_count": 98,
      "outputs": []
    },
    {
      "cell_type": "code",
      "source": [
        "a_dictionary = { 'language': \"C\", 'Number': 89, 'track': \"Low level\", 'ids': [1, 2, 3] }\n",
        "print_sorted_dictionary(a_dictionary)"
      ],
      "metadata": {
        "colab": {
          "base_uri": "https://localhost:8080/"
        },
        "id": "wfTQwtcmHWvR",
        "outputId": "22a0a444-12a9-4c47-fa5d-05656b12c306"
      },
      "execution_count": 99,
      "outputs": [
        {
          "output_type": "stream",
          "name": "stdout",
          "text": [
            "Number : 89\n",
            "ids : [1, 2, 3]\n",
            "language : C\n",
            "track : Low level\n"
          ]
        }
      ]
    },
    {
      "cell_type": "code",
      "source": [
        "def update_dictionary(a_dictionary, key, value):\n",
        "    a_dictionary[key] = value\n",
        "    return a_dictionary"
      ],
      "metadata": {
        "id": "3Bl12E4fIkte"
      },
      "execution_count": null,
      "outputs": []
    },
    {
      "cell_type": "code",
      "source": [
        "def simple_delete(a_dictionary, key=\"\"):\n",
        "    if key in a_dictionary:\n",
        "        del a_dictionary[key]\n",
        "    return a_dictionary"
      ],
      "metadata": {
        "id": "33_kyXmjKHis"
      },
      "execution_count": 114,
      "outputs": []
    },
    {
      "cell_type": "code",
      "source": [
        "a_dictionary = { 'language': \"C\", 'Number': 89, 'track': \"Low\", 'ids': [1, 2, 3] }\n",
        "simple_delete(a_dictionary, 'track')"
      ],
      "metadata": {
        "colab": {
          "base_uri": "https://localhost:8080/"
        },
        "id": "gelnyEzEK4QR",
        "outputId": "608dc2cf-6531-4d55-8762-55143ac1b4ef"
      },
      "execution_count": 115,
      "outputs": [
        {
          "output_type": "execute_result",
          "data": {
            "text/plain": [
              "{'language': 'C', 'Number': 89, 'ids': [1, 2, 3]}"
            ]
          },
          "metadata": {},
          "execution_count": 115
        }
      ]
    },
    {
      "cell_type": "code",
      "source": [
        "def multiply_by_2(a_dictionary):\n",
        "    temp = dict(a_dictionary)\n",
        "    for key, value in temp.items():\n",
        "        temp[key] = value * 2\n",
        "    return temp"
      ],
      "metadata": {
        "id": "ImBw4ssUMhsW"
      },
      "execution_count": 120,
      "outputs": []
    },
    {
      "cell_type": "code",
      "source": [
        "a_dictionary = {'John': 12, 'Alex': 8, 'Bob': 14, 'Mike': 14, 'Molly': 16}\n",
        "multiply_by_2(a_dictionary)"
      ],
      "metadata": {
        "colab": {
          "base_uri": "https://localhost:8080/"
        },
        "id": "kLdJGF60OD5e",
        "outputId": "c0d5478c-56d1-42d0-f090-7803c1679ee3"
      },
      "execution_count": 121,
      "outputs": [
        {
          "output_type": "execute_result",
          "data": {
            "text/plain": [
              "{'John': 24, 'Alex': 16, 'Bob': 28, 'Mike': 28, 'Molly': 32}"
            ]
          },
          "metadata": {},
          "execution_count": 121
        }
      ]
    },
    {
      "cell_type": "code",
      "source": [
        "def best_score(a_dictionary):\n",
        "    if not a_dictionary:\n",
        "        return None\n",
        "    biggest = 0\n",
        "    for key, value in a_dictionary.items():\n",
        "        if value > biggest:\n",
        "            biggest = value\n",
        "    for key, value in a_dictionary.items():\n",
        "        if value == biggest:\n",
        "            return key"
      ],
      "metadata": {
        "id": "YAsyuDR9O68P"
      },
      "execution_count": 127,
      "outputs": []
    },
    {
      "cell_type": "code",
      "source": [
        "a_dictionary = {'John': 12, 'Bob': 14, 'Mike': 14, 'Molly': 16, 'Adam': 10}\n",
        "best_score(a_dictionary)"
      ],
      "metadata": {
        "colab": {
          "base_uri": "https://localhost:8080/",
          "height": 36
        },
        "id": "Kyl2tpqsPe9j",
        "outputId": "b33c8046-2692-4fe4-f291-edf9245c4f2c"
      },
      "execution_count": 128,
      "outputs": [
        {
          "output_type": "execute_result",
          "data": {
            "text/plain": [
              "'Molly'"
            ],
            "application/vnd.google.colaboratory.intrinsic+json": {
              "type": "string"
            }
          },
          "metadata": {},
          "execution_count": 128
        }
      ]
    },
    {
      "cell_type": "code",
      "source": [
        "def mutiply_list_map(my_list=[], number=0):\n",
        "    return (map(lambda item: item * number, my_list))"
      ],
      "metadata": {
        "id": "ARqOL-M4Ra7_"
      },
      "execution_count": 133,
      "outputs": []
    },
    {
      "cell_type": "code",
      "source": [
        "my_list = [1, 2, 3, 4, 6]\n",
        "multiply_list_map(my_list, 4)"
      ],
      "metadata": {
        "colab": {
          "base_uri": "https://localhost:8080/"
        },
        "id": "0YVztIkTTAhQ",
        "outputId": "45caf1b0-c55c-46cb-c51f-08ff67ef5101"
      },
      "execution_count": 134,
      "outputs": [
        {
          "output_type": "execute_result",
          "data": {
            "text/plain": [
              "[4, 8, 12, 16, 24]"
            ]
          },
          "metadata": {},
          "execution_count": 134
        }
      ]
    },
    {
      "cell_type": "code",
      "source": [
        "def weight_average(my_list=[]):\n",
        "    if not my_list:\n",
        "        return 0\n",
        "    res = 0.0\n",
        "    s_list = list(t[0] * t[1] for t in my_list)\n",
        "    w_list = list(t[1] for t in my_list)\n",
        "    res = sum(s_list) / sum(w_list)\n",
        "    return res"
      ],
      "metadata": {
        "id": "ek0STEgUoP7d"
      },
      "execution_count": 136,
      "outputs": []
    },
    {
      "cell_type": "code",
      "source": [
        "my_list = [(1, 2), (2, 1), (3, 10), (4, 2)]\n",
        "weight_average(my_list)"
      ],
      "metadata": {
        "colab": {
          "base_uri": "https://localhost:8080/"
        },
        "id": "QJRV7tohoWzn",
        "outputId": "098db642-cc2b-476b-f34b-e365119d2bb5"
      },
      "execution_count": 137,
      "outputs": [
        {
          "output_type": "execute_result",
          "data": {
            "text/plain": [
              "2.8"
            ]
          },
          "metadata": {},
          "execution_count": 137
        }
      ]
    },
    {
      "cell_type": "code",
      "source": [
        "def mutiply_list_map(my_list=[], number=0):\n",
        "    return (map(lambda item: item * number, my_list))"
      ],
      "metadata": {
        "id": "WSJcIAZnnYEv"
      },
      "execution_count": null,
      "outputs": []
    },
    {
      "cell_type": "code",
      "source": [
        "def complex_delete(a_dictionary, value):\n",
        "    for idx in list(a_dictionary.keys()):\n",
        "        if a_dictionary[idx] == value:\n",
        "            del a_dictionary[idx]\n",
        "    return a_dictionary"
      ],
      "metadata": {
        "id": "SfSPOL-FTiKI"
      },
      "execution_count": 135,
      "outputs": []
    },
    {
      "cell_type": "code",
      "source": [],
      "metadata": {
        "id": "-ReZOqAVnAVl"
      },
      "execution_count": null,
      "outputs": []
    }
  ]
}