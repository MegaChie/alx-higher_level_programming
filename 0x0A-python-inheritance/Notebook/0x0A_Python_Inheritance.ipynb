{
  "nbformat": 4,
  "nbformat_minor": 0,
  "metadata": {
    "colab": {
      "provenance": [],
      "authorship_tag": "ABX9TyOScHFXYYxKf2DnE3lmdpGh",
      "include_colab_link": true
    },
    "kernelspec": {
      "name": "python3",
      "display_name": "Python 3"
    },
    "language_info": {
      "name": "python"
    }
  },
  "cells": [
    {
      "cell_type": "markdown",
      "metadata": {
        "id": "view-in-github",
        "colab_type": "text"
      },
      "source": [
        "<a href=\"https://colab.research.google.com/github/MegaChie/alx-higher_level_programming/blob/main/0x0A-python-inheritance/Notebook/0x0A_Python_Inheritance.ipynb\" target=\"_parent\"><img src=\"https://colab.research.google.com/assets/colab-badge.svg\" alt=\"Open In Colab\"/></a>"
      ]
    },
    {
      "cell_type": "code",
      "execution_count": 3,
      "metadata": {
        "id": "tcy2ykIsaQcp"
      },
      "outputs": [],
      "source": [
        "\"\"\" user defined function. \"\"\"\n",
        "\n",
        "\n",
        "def lookup(obj):\n",
        "    \"\"\" Lookup atteributes and methods. \"\"\"\n",
        "    return dir(obj)"
      ]
    },
    {
      "cell_type": "code",
      "source": [
        "class MyClass1(object):\n",
        "    pass\n",
        "\n",
        "class MyClass2(object):\n",
        "    my_attr1 = 3\n",
        "    def my_meth(self):\n",
        "        pass\n",
        "\n",
        "print(lookup(MyClass1))\n",
        "print(lookup(MyClass2))\n",
        "print(lookup(int))"
      ],
      "metadata": {
        "colab": {
          "base_uri": "https://localhost:8080/"
        },
        "id": "SZ1H6_gUggER",
        "outputId": "ea914ee9-f4c3-4e88-aeab-06b70321b367"
      },
      "execution_count": 4,
      "outputs": [
        {
          "output_type": "stream",
          "name": "stdout",
          "text": [
            "['__class__', '__delattr__', '__dict__', '__dir__', '__doc__', '__eq__', '__format__', '__ge__', '__getattribute__', '__gt__', '__hash__', '__init__', '__init_subclass__', '__le__', '__lt__', '__module__', '__ne__', '__new__', '__reduce__', '__reduce_ex__', '__repr__', '__setattr__', '__sizeof__', '__str__', '__subclasshook__', '__weakref__']\n",
            "['__class__', '__delattr__', '__dict__', '__dir__', '__doc__', '__eq__', '__format__', '__ge__', '__getattribute__', '__gt__', '__hash__', '__init__', '__init_subclass__', '__le__', '__lt__', '__module__', '__ne__', '__new__', '__reduce__', '__reduce_ex__', '__repr__', '__setattr__', '__sizeof__', '__str__', '__subclasshook__', '__weakref__', 'my_attr1', 'my_meth']\n",
            "['__abs__', '__add__', '__and__', '__bool__', '__ceil__', '__class__', '__delattr__', '__dir__', '__divmod__', '__doc__', '__eq__', '__float__', '__floor__', '__floordiv__', '__format__', '__ge__', '__getattribute__', '__getnewargs__', '__gt__', '__hash__', '__index__', '__init__', '__init_subclass__', '__int__', '__invert__', '__le__', '__lshift__', '__lt__', '__mod__', '__mul__', '__ne__', '__neg__', '__new__', '__or__', '__pos__', '__pow__', '__radd__', '__rand__', '__rdivmod__', '__reduce__', '__reduce_ex__', '__repr__', '__rfloordiv__', '__rlshift__', '__rmod__', '__rmul__', '__ror__', '__round__', '__rpow__', '__rrshift__', '__rshift__', '__rsub__', '__rtruediv__', '__rxor__', '__setattr__', '__sizeof__', '__str__', '__sub__', '__subclasshook__', '__truediv__', '__trunc__', '__xor__', 'as_integer_ratio', 'bit_length', 'conjugate', 'denominator', 'from_bytes', 'imag', 'numerator', 'real', 'to_bytes']\n"
          ]
        }
      ]
    },
    {
      "cell_type": "code",
      "source": [
        "\"\"\" user defined class. \"\"\"\n",
        "\n",
        "\n",
        "class MyList(list):\n",
        "    \"\"\" My list. \"\"\"\n",
        "    def print_sorted(self):\n",
        "        print(sorted(self))"
      ],
      "metadata": {
        "id": "vGKSWS3ZIsJO"
      },
      "execution_count": 75,
      "outputs": []
    },
    {
      "cell_type": "code",
      "source": [
        "my_list = MyList()\n",
        "my_list.append(1)\n",
        "my_list.append(4)\n",
        "my_list.append(2)\n",
        "my_list.append(3)\n",
        "my_list.append(5)\n",
        "print(my_list)\n",
        "my_list.print_sorted()\n",
        "print(my_list)"
      ],
      "metadata": {
        "colab": {
          "base_uri": "https://localhost:8080/"
        },
        "id": "dQcPj03qKQs8",
        "outputId": "f505a048-45e6-42d3-d4be-ef9d8e6d7c28"
      },
      "execution_count": 76,
      "outputs": [
        {
          "output_type": "stream",
          "name": "stdout",
          "text": [
            "[1, 4, 2, 3, 5]\n",
            "[1, 2, 3, 4, 5]\n",
            "[1, 4, 2, 3, 5]\n"
          ]
        }
      ]
    },
    {
      "cell_type": "code",
      "source": [
        "\"\"\" user defined function. \"\"\"\n",
        "\n",
        "\n",
        "def is_same_class(obj, a_class):\n",
        "    \"\"\" Exact same object. \"\"\"\n",
        "    if type(obj) is a_class:\n",
        "        return True\n",
        "    else:\n",
        "        return False"
      ],
      "metadata": {
        "id": "qs7cju5mUMSH"
      },
      "execution_count": 83,
      "outputs": []
    },
    {
      "cell_type": "code",
      "source": [
        "a = 1\n",
        "if is_same_class(a, int):\n",
        "    print(\"{} is an instance of the class {}\".format(a, int.__name__))\n",
        "if is_same_class(a, float):\n",
        "    print(\"{} is an instance of the class {}\".format(a, float.__name__))\n",
        "if is_same_class(a, object):\n",
        "    print(\"{} is an instance of the class {}\".format(a, object.__name__))"
      ],
      "metadata": {
        "colab": {
          "base_uri": "https://localhost:8080/"
        },
        "id": "o5oZUkXgUt62",
        "outputId": "1fc1958b-179b-4dfc-d4b3-aa2a4d226b1b"
      },
      "execution_count": 84,
      "outputs": [
        {
          "output_type": "stream",
          "name": "stdout",
          "text": [
            "1 is an instance of the class int\n"
          ]
        }
      ]
    },
    {
      "cell_type": "code",
      "source": [
        "\"\"\" user defined function. \"\"\"\n",
        "\n",
        "\n",
        "def is_kind_of_class(obj, a_class):\n",
        "    \"\"\" Same class or inherit from. \"\"\"\n",
        "    if type(obj) is a_class or isinstance(obj, a_class) is True:\n",
        "        return True\n",
        "    else:\n",
        "        return False"
      ],
      "metadata": {
        "id": "DObxPq7JWRj9"
      },
      "execution_count": 8,
      "outputs": []
    },
    {
      "cell_type": "code",
      "source": [
        "a = 1\n",
        "if is_kind_of_class(a, int):\n",
        "    print(\"{} comes from {}\".format(a, int.__name__))\n",
        "if is_kind_of_class(a, float):\n",
        "    print(\"{} comes from {}\".format(a, float.__name__))\n",
        "if is_kind_of_class(a, object):\n",
        "    print(\"{} comes from {}\".format(a, object.__name__))"
      ],
      "metadata": {
        "colab": {
          "base_uri": "https://localhost:8080/"
        },
        "id": "sUrg9J3nW1aV",
        "outputId": "799408ea-87c3-406a-9d8d-162ea353302d"
      },
      "execution_count": 9,
      "outputs": [
        {
          "output_type": "stream",
          "name": "stdout",
          "text": [
            "1 comes from int\n",
            "1 comes from object\n"
          ]
        }
      ]
    },
    {
      "cell_type": "code",
      "source": [
        "\"\"\" user defined function. \"\"\"\n",
        "\n",
        "\n",
        "def inherits_from(obj, a_class):\n",
        "    \"\"\" Only sub class of. \"\"\"\n",
        "    if not isinstance(obj, a_class) or type(obj) is a_class:\n",
        "        return False\n",
        "    else:\n",
        "        return True"
      ],
      "metadata": {
        "id": "u9b0JDeXYi0P"
      },
      "execution_count": 5,
      "outputs": []
    },
    {
      "cell_type": "code",
      "source": [
        "a = True\n",
        "if inherits_from(a, int):\n",
        "    print(\"{} inherited from class {}\".format(a, int.__name__))\n",
        "if inherits_from(a, bool):\n",
        "    print(\"{} inherited from class {}\".format(a, bool.__name__))\n",
        "if inherits_from(a, object):\n",
        "    print(\"{} inherited from class {}\".format(a, object.__name__))"
      ],
      "metadata": {
        "colab": {
          "base_uri": "https://localhost:8080/"
        },
        "id": "1Me_xkZ6Y-DN",
        "outputId": "83e4dbd3-5f02-4ba9-c521-5309ab01c743"
      },
      "execution_count": 6,
      "outputs": [
        {
          "output_type": "stream",
          "name": "stdout",
          "text": [
            "True inherited from class int\n",
            "True inherited from class object\n"
          ]
        }
      ]
    },
    {
      "cell_type": "code",
      "source": [
        "\"\"\" user defined class. \"\"\"\n",
        "\n",
        "\n",
        "class BaseGeometry:\n",
        "    \"\"\" Geometry module. \"\"\"\n",
        "    pass"
      ],
      "metadata": {
        "id": "CjUONdnvnnaX"
      },
      "execution_count": null,
      "outputs": []
    },
    {
      "cell_type": "code",
      "source": [],
      "metadata": {
        "id": "lNIneAx9oWqO"
      },
      "execution_count": null,
      "outputs": []
    },
    {
      "cell_type": "code",
      "source": [
        "\"\"\" user defined class. \"\"\"\n",
        "\n",
        "\n",
        "class BaseGeometry:\n",
        "    \"\"\" Improve Geometry. \"\"\"\n",
        "    def area(self):\n",
        "        raise Exception(\"area() is not implemented\")"
      ],
      "metadata": {
        "id": "tPEf76H7oW_Q"
      },
      "execution_count": 10,
      "outputs": []
    },
    {
      "cell_type": "code",
      "source": [
        "bg = BaseGeometry()\n",
        "\n",
        "try:\n",
        "    print(bg.area())\n",
        "except Exception as e:\n",
        "    print(\"[{}] {}\".format(e.__class__.__name__, e))"
      ],
      "metadata": {
        "colab": {
          "base_uri": "https://localhost:8080/"
        },
        "id": "BL9bxW2xo-Cn",
        "outputId": "78616509-77ff-4148-f953-de9322d230a4"
      },
      "execution_count": 11,
      "outputs": [
        {
          "output_type": "stream",
          "name": "stdout",
          "text": [
            "[Exception] area() is not implemented\n"
          ]
        }
      ]
    },
    {
      "cell_type": "code",
      "source": [
        "\"\"\" user defined class. \"\"\"\n",
        "\n",
        "\n",
        "class BaseGeometry:\n",
        "    \"\"\" Integer validator. \"\"\"\n",
        "    def area(self):\n",
        "        raise Exception(\"area() is not implemented\")\n",
        "\n",
        "    \"\"\" Integer validator. \"\"\"\n",
        "    def integer_validator(self, name, value):\n",
        "        if type(value) is not int:\n",
        "            raise TypeError(name + \" must be an integer\")\n",
        "        if value <= 0:\n",
        "            raise ValueError(name + \" must be greater than 0\")"
      ],
      "metadata": {
        "id": "EzIjJ9L1paF_"
      },
      "execution_count": 16,
      "outputs": []
    },
    {
      "cell_type": "code",
      "source": [
        "bg = BaseGeometry()\n",
        "\n",
        "bg.integer_validator(\"my_int\", 12)\n",
        "bg.integer_validator(\"width\", 89)\n",
        "\n",
        "try:\n",
        "    bg.integer_validator(\"name\", \"John\")\n",
        "except Exception as e:\n",
        "    print(\"[{}] {}\".format(e.__class__.__name__, e))\n",
        "\n",
        "try:\n",
        "    bg.integer_validator(\"age\", 0)\n",
        "except Exception as e:\n",
        "    print(\"[{}] {}\".format(e.__class__.__name__, e))\n",
        "\n",
        "try:\n",
        "    bg.integer_validator(\"distance\", -4)\n",
        "except Exception as e:\n",
        "    print(\"[{}] {}\".format(e.__class__.__name__, e))"
      ],
      "metadata": {
        "colab": {
          "base_uri": "https://localhost:8080/"
        },
        "id": "gBv-aPXfqoy_",
        "outputId": "c49fd068-f6cd-4e36-db03-6aa835c6416a"
      },
      "execution_count": 17,
      "outputs": [
        {
          "output_type": "stream",
          "name": "stdout",
          "text": [
            "[TypeError] name must be an integer\n",
            "[ValueError] age must be greater than 0\n",
            "[ValueError] distance must be greater than 0\n"
          ]
        }
      ]
    },
    {
      "cell_type": "code",
      "source": [
        "\"\"\" user defined class. \"\"\"\n",
        "# BaseGeometry = __import__('7-base_geometry').BaseGeometry\n",
        "\n",
        "\n",
        "class Rectangle(BaseGeometry):\n",
        "    \"\"\" Rectangle \"\"\"\n",
        "    def __init__(self, width, height):\n",
        "        self.__height = height\n",
        "        self.__width = width\n",
        "        super().integer_validator(\"width\", width)\n",
        "        super().integer_validator(\"height\", height)"
      ],
      "metadata": {
        "id": "U1BOC1AOsIHa"
      },
      "execution_count": 19,
      "outputs": []
    },
    {
      "cell_type": "code",
      "source": [
        "r = Rectangle(3, 5)\n",
        "\n",
        "print(r)\n",
        "print(dir(r))\n",
        "\n",
        "try:\n",
        "    print(\"Rectangle: {} - {}\".format(r.width, r.height))\n",
        "except Exception as e:\n",
        "    print(\"[{}] {}\".format(e.__class__.__name__, e))\n",
        "\n",
        "try:\n",
        "    r2 = Rectangle(4, True)\n",
        "except Exception as e:\n",
        "    print(\"[{}] {}\".format(e.__class__.__name__, e))"
      ],
      "metadata": {
        "colab": {
          "base_uri": "https://localhost:8080/"
        },
        "id": "Ko9__5qStTMh",
        "outputId": "545180b2-a4f9-4f0b-e218-05ad0d3a480e"
      },
      "execution_count": 20,
      "outputs": [
        {
          "output_type": "stream",
          "name": "stdout",
          "text": [
            "<__main__.Rectangle object at 0x7fccb55c9580>\n",
            "['_Rectangle__height', '_Rectangle__width', '__class__', '__delattr__', '__dict__', '__dir__', '__doc__', '__eq__', '__format__', '__ge__', '__getattribute__', '__gt__', '__hash__', '__init__', '__init_subclass__', '__le__', '__lt__', '__module__', '__ne__', '__new__', '__reduce__', '__reduce_ex__', '__repr__', '__setattr__', '__sizeof__', '__str__', '__subclasshook__', '__weakref__', 'area', 'integer_validator']\n",
            "[AttributeError] 'Rectangle' object has no attribute 'width'\n",
            "[TypeError] height must be an integer\n"
          ]
        }
      ]
    },
    {
      "cell_type": "code",
      "source": [
        "\"\"\" user defined class. \"\"\"\n",
        "# BaseGeometry = __import__('7-base_geometry').BaseGeometry\n",
        "\n",
        "\n",
        "class Rectangle(BaseGeometry):\n",
        "    \"\"\" Full rectangle \"\"\"\n",
        "    def __init__(self, width, height):\n",
        "        self.__height = height\n",
        "        self.__width = width\n",
        "        super().integer_validator(\"width\", width)\n",
        "        super().integer_validator(\"height\", height)\n",
        "\n",
        "    \"\"\" Full rectangle \"\"\"\n",
        "    def area(self):\n",
        "        return self.__height * self.__width\n",
        "\n",
        "    \"\"\" Full rectangle \"\"\"\n",
        "    def __str__(self):\n",
        "        return \"[Rectangle] {}/{}\".format(self.__width, self.__height)"
      ],
      "metadata": {
        "id": "OTq674_oxK9I"
      },
      "execution_count": 23,
      "outputs": []
    },
    {
      "cell_type": "code",
      "source": [
        "r = Rectangle(3, 5)\n",
        "\n",
        "print(r)\n",
        "print(r.area())"
      ],
      "metadata": {
        "colab": {
          "base_uri": "https://localhost:8080/"
        },
        "id": "tembnidgykyY",
        "outputId": "830525d4-7581-4b8e-908b-d686e2d7aa05"
      },
      "execution_count": 24,
      "outputs": [
        {
          "output_type": "stream",
          "name": "stdout",
          "text": [
            "[Rectangle] 3/5\n",
            "15\n"
          ]
        }
      ]
    },
    {
      "cell_type": "code",
      "source": [
        "\"\"\" user defined class. \"\"\"\n",
        "# Rectangle = __import__('9-rectangle').Rectangle\n",
        "\n",
        "\n",
        "class Square(Rectangle):\n",
        "    \"\"\" Square #1. \"\"\"\n",
        "    def __init__(self, size):\n",
        "        super().integer_validator(\"size\", size)\n",
        "        super().__init__(size, size)\n",
        "        self.__size = size\n",
        "\n",
        "    \"\"\" Square #1. \"\"\"\n",
        "    def area(self):\n",
        "        return self.__size * self.__size"
      ],
      "metadata": {
        "id": "JBklHGCl3UaP"
      },
      "execution_count": 25,
      "outputs": []
    },
    {
      "cell_type": "code",
      "source": [
        "s = Square(13)\n",
        "\n",
        "print(s)\n",
        "print(s.area())\n"
      ],
      "metadata": {
        "colab": {
          "base_uri": "https://localhost:8080/"
        },
        "id": "aMHObLL14vFR",
        "outputId": "b7a77536-7cd6-4cf2-de0c-ce9d3a1535fb"
      },
      "execution_count": 26,
      "outputs": [
        {
          "output_type": "stream",
          "name": "stdout",
          "text": [
            "[Rectangle] 13/13\n",
            "169\n"
          ]
        }
      ]
    },
    {
      "cell_type": "code",
      "source": [
        "\"\"\" user defined class. \"\"\"\n",
        "# Rectangle = __import__('9-rectangle').Rectangle\n",
        "\n",
        "\n",
        "class Square(Rectangle):\n",
        "    \"\"\" Square #2. \"\"\"\n",
        "    def __init__(self, size):\n",
        "        super().integer_validator(\"size\", size)\n",
        "        super().__init__(size, size)\n",
        "        self.__size = size\n",
        "\n",
        "    \"\"\" Square #2. \"\"\"\n",
        "    def area(self):\n",
        "        return self.__size * self.__size\n",
        "\n",
        "    \"\"\" Square #2. \"\"\"\n",
        "    def __str__(self):\n",
        "        return \"[Square] {}/{}\".format(self.__size, self.__size)"
      ],
      "metadata": {
        "id": "m-ER74iT6qKT"
      },
      "execution_count": 27,
      "outputs": []
    },
    {
      "cell_type": "code",
      "source": [
        "s = Square(13)\n",
        "\n",
        "print(s)\n",
        "print(s.area())"
      ],
      "metadata": {
        "colab": {
          "base_uri": "https://localhost:8080/"
        },
        "id": "e9c5ZuUC7Dhr",
        "outputId": "9d361f18-2b97-4194-a691-fd04aeb7057e"
      },
      "execution_count": 28,
      "outputs": [
        {
          "output_type": "stream",
          "name": "stdout",
          "text": [
            "[Square] 13/13\n",
            "169\n"
          ]
        }
      ]
    },
    {
      "cell_type": "code",
      "source": [
        "\"\"\" user defined class. \"\"\"\n",
        "\n",
        "\n",
        "class MyInt(int):\n",
        "    \"\"\" My integer. \"\"\"\n",
        "    def __eq__(self, value):\n",
        "        return super().__ne__(value)\n",
        "\n",
        "    \"\"\" My integer. \"\"\"\n",
        "    def __ne__(self, value):\n",
        "        return super().__eq__(value)"
      ],
      "metadata": {
        "id": "pE9uM4Rz90AT"
      },
      "execution_count": 29,
      "outputs": []
    },
    {
      "cell_type": "code",
      "source": [
        "my_i = MyInt(3)\n",
        "print(my_i)\n",
        "print(my_i == 3)\n",
        "print(my_i != 3)"
      ],
      "metadata": {
        "colab": {
          "base_uri": "https://localhost:8080/"
        },
        "id": "KnREucZd94Uz",
        "outputId": "5e486a07-8bdc-42a0-c2b5-0f97f43c065f"
      },
      "execution_count": 30,
      "outputs": [
        {
          "output_type": "stream",
          "name": "stdout",
          "text": [
            "3\n",
            "False\n",
            "True\n"
          ]
        }
      ]
    },
    {
      "cell_type": "code",
      "source": [
        "\"\"\" user defined class. \"\"\"\n",
        "\n",
        "\n",
        "def add_attribute(a_class, name, value):\n",
        "    \"\"\" Can I? \"\"\"\n",
        "    cannot_add = {int, str, float, list, dict, tuple, frozenset, type, object}\n",
        "    if type(a_class) in cannot_add:\n",
        "        raise TypeError(\"can't add new attribute\")\n",
        "    a_class.__setattr__(name, value)"
      ],
      "metadata": {
        "id": "1u_QQ54f9_Za"
      },
      "execution_count": 31,
      "outputs": []
    },
    {
      "cell_type": "code",
      "source": [
        "class MyClass():\n",
        "    pass\n",
        "\n",
        "mc = MyClass()\n",
        "add_attribute(mc, \"name\", \"John\")\n",
        "print(mc.name)\n",
        "\n",
        "try:\n",
        "    a = \"My String\"\n",
        "    add_attribute(a, \"name\", \"Bob\")\n",
        "    print(a.name)\n",
        "except Exception as e:\n",
        "    print(\"[{}] {}\".format(e.__class__.__name__, e))"
      ],
      "metadata": {
        "colab": {
          "base_uri": "https://localhost:8080/"
        },
        "id": "7dr5sQpr-M5b",
        "outputId": "43ef66b1-050e-4dab-d1e5-4cf13bc54d4e"
      },
      "execution_count": 32,
      "outputs": [
        {
          "output_type": "stream",
          "name": "stdout",
          "text": [
            "John\n",
            "[TypeError] can't add new attribute\n"
          ]
        }
      ]
    }
  ]
}